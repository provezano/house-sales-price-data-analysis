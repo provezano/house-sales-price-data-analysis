{
 "cells": [
  {
   "cell_type": "markdown",
   "id": "b15cd552",
   "metadata": {},
   "source": [
    "# House Price Sales"
   ]
  },
  {
   "cell_type": "markdown",
   "id": "7d8e2e38",
   "metadata": {},
   "source": [
    "## 1.0 Libraries"
   ]
  },
  {
   "cell_type": "code",
   "execution_count": 1,
   "id": "05cc7402",
   "metadata": {},
   "outputs": [],
   "source": [
    "import pandas as pd\n",
    "import seaborn as sns\n",
    "import matplotlib.pyplot as plt"
   ]
  },
  {
   "cell_type": "markdown",
   "id": "6cda5c52",
   "metadata": {},
   "source": [
    "## 2.0 Data Ingest"
   ]
  },
  {
   "cell_type": "code",
   "execution_count": 2,
   "id": "ec74adfa",
   "metadata": {},
   "outputs": [
    {
     "ename": "FileNotFoundError",
     "evalue": "[Errno 2] No such file or directory: 'kc_house_data.csv'",
     "output_type": "error",
     "traceback": [
      "\u001b[1;31m---------------------------------------------------------------------------\u001b[0m",
      "\u001b[1;31mFileNotFoundError\u001b[0m                         Traceback (most recent call last)",
      "\u001b[1;32m~\\AppData\\Local\\Temp/ipykernel_18244/2652614467.py\u001b[0m in \u001b[0;36m<module>\u001b[1;34m\u001b[0m\n\u001b[1;32m----> 1\u001b[1;33m \u001b[0mdata\u001b[0m \u001b[1;33m=\u001b[0m \u001b[0mpd\u001b[0m\u001b[1;33m.\u001b[0m\u001b[0mread_csv\u001b[0m\u001b[1;33m(\u001b[0m\u001b[1;34m'kc_house_data.csv'\u001b[0m\u001b[1;33m)\u001b[0m\u001b[1;33m\u001b[0m\u001b[1;33m\u001b[0m\u001b[0m\n\u001b[0m",
      "\u001b[1;32m~\\miniconda3\\envs\\geo_env\\lib\\site-packages\\pandas\\util\\_decorators.py\u001b[0m in \u001b[0;36mwrapper\u001b[1;34m(*args, **kwargs)\u001b[0m\n\u001b[0;32m    309\u001b[0m                     \u001b[0mstacklevel\u001b[0m\u001b[1;33m=\u001b[0m\u001b[0mstacklevel\u001b[0m\u001b[1;33m,\u001b[0m\u001b[1;33m\u001b[0m\u001b[1;33m\u001b[0m\u001b[0m\n\u001b[0;32m    310\u001b[0m                 )\n\u001b[1;32m--> 311\u001b[1;33m             \u001b[1;32mreturn\u001b[0m \u001b[0mfunc\u001b[0m\u001b[1;33m(\u001b[0m\u001b[1;33m*\u001b[0m\u001b[0margs\u001b[0m\u001b[1;33m,\u001b[0m \u001b[1;33m**\u001b[0m\u001b[0mkwargs\u001b[0m\u001b[1;33m)\u001b[0m\u001b[1;33m\u001b[0m\u001b[1;33m\u001b[0m\u001b[0m\n\u001b[0m\u001b[0;32m    312\u001b[0m \u001b[1;33m\u001b[0m\u001b[0m\n\u001b[0;32m    313\u001b[0m         \u001b[1;32mreturn\u001b[0m \u001b[0mwrapper\u001b[0m\u001b[1;33m\u001b[0m\u001b[1;33m\u001b[0m\u001b[0m\n",
      "\u001b[1;32m~\\miniconda3\\envs\\geo_env\\lib\\site-packages\\pandas\\io\\parsers\\readers.py\u001b[0m in \u001b[0;36mread_csv\u001b[1;34m(filepath_or_buffer, sep, delimiter, header, names, index_col, usecols, squeeze, prefix, mangle_dupe_cols, dtype, engine, converters, true_values, false_values, skipinitialspace, skiprows, skipfooter, nrows, na_values, keep_default_na, na_filter, verbose, skip_blank_lines, parse_dates, infer_datetime_format, keep_date_col, date_parser, dayfirst, cache_dates, iterator, chunksize, compression, thousands, decimal, lineterminator, quotechar, quoting, doublequote, escapechar, comment, encoding, encoding_errors, dialect, error_bad_lines, warn_bad_lines, on_bad_lines, delim_whitespace, low_memory, memory_map, float_precision, storage_options)\u001b[0m\n\u001b[0;32m    584\u001b[0m     \u001b[0mkwds\u001b[0m\u001b[1;33m.\u001b[0m\u001b[0mupdate\u001b[0m\u001b[1;33m(\u001b[0m\u001b[0mkwds_defaults\u001b[0m\u001b[1;33m)\u001b[0m\u001b[1;33m\u001b[0m\u001b[1;33m\u001b[0m\u001b[0m\n\u001b[0;32m    585\u001b[0m \u001b[1;33m\u001b[0m\u001b[0m\n\u001b[1;32m--> 586\u001b[1;33m     \u001b[1;32mreturn\u001b[0m \u001b[0m_read\u001b[0m\u001b[1;33m(\u001b[0m\u001b[0mfilepath_or_buffer\u001b[0m\u001b[1;33m,\u001b[0m \u001b[0mkwds\u001b[0m\u001b[1;33m)\u001b[0m\u001b[1;33m\u001b[0m\u001b[1;33m\u001b[0m\u001b[0m\n\u001b[0m\u001b[0;32m    587\u001b[0m \u001b[1;33m\u001b[0m\u001b[0m\n\u001b[0;32m    588\u001b[0m \u001b[1;33m\u001b[0m\u001b[0m\n",
      "\u001b[1;32m~\\miniconda3\\envs\\geo_env\\lib\\site-packages\\pandas\\io\\parsers\\readers.py\u001b[0m in \u001b[0;36m_read\u001b[1;34m(filepath_or_buffer, kwds)\u001b[0m\n\u001b[0;32m    480\u001b[0m \u001b[1;33m\u001b[0m\u001b[0m\n\u001b[0;32m    481\u001b[0m     \u001b[1;31m# Create the parser.\u001b[0m\u001b[1;33m\u001b[0m\u001b[1;33m\u001b[0m\u001b[0m\n\u001b[1;32m--> 482\u001b[1;33m     \u001b[0mparser\u001b[0m \u001b[1;33m=\u001b[0m \u001b[0mTextFileReader\u001b[0m\u001b[1;33m(\u001b[0m\u001b[0mfilepath_or_buffer\u001b[0m\u001b[1;33m,\u001b[0m \u001b[1;33m**\u001b[0m\u001b[0mkwds\u001b[0m\u001b[1;33m)\u001b[0m\u001b[1;33m\u001b[0m\u001b[1;33m\u001b[0m\u001b[0m\n\u001b[0m\u001b[0;32m    483\u001b[0m \u001b[1;33m\u001b[0m\u001b[0m\n\u001b[0;32m    484\u001b[0m     \u001b[1;32mif\u001b[0m \u001b[0mchunksize\u001b[0m \u001b[1;32mor\u001b[0m \u001b[0miterator\u001b[0m\u001b[1;33m:\u001b[0m\u001b[1;33m\u001b[0m\u001b[1;33m\u001b[0m\u001b[0m\n",
      "\u001b[1;32m~\\miniconda3\\envs\\geo_env\\lib\\site-packages\\pandas\\io\\parsers\\readers.py\u001b[0m in \u001b[0;36m__init__\u001b[1;34m(self, f, engine, **kwds)\u001b[0m\n\u001b[0;32m    809\u001b[0m             \u001b[0mself\u001b[0m\u001b[1;33m.\u001b[0m\u001b[0moptions\u001b[0m\u001b[1;33m[\u001b[0m\u001b[1;34m\"has_index_names\"\u001b[0m\u001b[1;33m]\u001b[0m \u001b[1;33m=\u001b[0m \u001b[0mkwds\u001b[0m\u001b[1;33m[\u001b[0m\u001b[1;34m\"has_index_names\"\u001b[0m\u001b[1;33m]\u001b[0m\u001b[1;33m\u001b[0m\u001b[1;33m\u001b[0m\u001b[0m\n\u001b[0;32m    810\u001b[0m \u001b[1;33m\u001b[0m\u001b[0m\n\u001b[1;32m--> 811\u001b[1;33m         \u001b[0mself\u001b[0m\u001b[1;33m.\u001b[0m\u001b[0m_engine\u001b[0m \u001b[1;33m=\u001b[0m \u001b[0mself\u001b[0m\u001b[1;33m.\u001b[0m\u001b[0m_make_engine\u001b[0m\u001b[1;33m(\u001b[0m\u001b[0mself\u001b[0m\u001b[1;33m.\u001b[0m\u001b[0mengine\u001b[0m\u001b[1;33m)\u001b[0m\u001b[1;33m\u001b[0m\u001b[1;33m\u001b[0m\u001b[0m\n\u001b[0m\u001b[0;32m    812\u001b[0m \u001b[1;33m\u001b[0m\u001b[0m\n\u001b[0;32m    813\u001b[0m     \u001b[1;32mdef\u001b[0m \u001b[0mclose\u001b[0m\u001b[1;33m(\u001b[0m\u001b[0mself\u001b[0m\u001b[1;33m)\u001b[0m\u001b[1;33m:\u001b[0m\u001b[1;33m\u001b[0m\u001b[1;33m\u001b[0m\u001b[0m\n",
      "\u001b[1;32m~\\miniconda3\\envs\\geo_env\\lib\\site-packages\\pandas\\io\\parsers\\readers.py\u001b[0m in \u001b[0;36m_make_engine\u001b[1;34m(self, engine)\u001b[0m\n\u001b[0;32m   1038\u001b[0m             )\n\u001b[0;32m   1039\u001b[0m         \u001b[1;31m# error: Too many arguments for \"ParserBase\"\u001b[0m\u001b[1;33m\u001b[0m\u001b[1;33m\u001b[0m\u001b[0m\n\u001b[1;32m-> 1040\u001b[1;33m         \u001b[1;32mreturn\u001b[0m \u001b[0mmapping\u001b[0m\u001b[1;33m[\u001b[0m\u001b[0mengine\u001b[0m\u001b[1;33m]\u001b[0m\u001b[1;33m(\u001b[0m\u001b[0mself\u001b[0m\u001b[1;33m.\u001b[0m\u001b[0mf\u001b[0m\u001b[1;33m,\u001b[0m \u001b[1;33m**\u001b[0m\u001b[0mself\u001b[0m\u001b[1;33m.\u001b[0m\u001b[0moptions\u001b[0m\u001b[1;33m)\u001b[0m  \u001b[1;31m# type: ignore[call-arg]\u001b[0m\u001b[1;33m\u001b[0m\u001b[1;33m\u001b[0m\u001b[0m\n\u001b[0m\u001b[0;32m   1041\u001b[0m \u001b[1;33m\u001b[0m\u001b[0m\n\u001b[0;32m   1042\u001b[0m     \u001b[1;32mdef\u001b[0m \u001b[0m_failover_to_python\u001b[0m\u001b[1;33m(\u001b[0m\u001b[0mself\u001b[0m\u001b[1;33m)\u001b[0m\u001b[1;33m:\u001b[0m\u001b[1;33m\u001b[0m\u001b[1;33m\u001b[0m\u001b[0m\n",
      "\u001b[1;32m~\\miniconda3\\envs\\geo_env\\lib\\site-packages\\pandas\\io\\parsers\\c_parser_wrapper.py\u001b[0m in \u001b[0;36m__init__\u001b[1;34m(self, src, **kwds)\u001b[0m\n\u001b[0;32m     49\u001b[0m \u001b[1;33m\u001b[0m\u001b[0m\n\u001b[0;32m     50\u001b[0m         \u001b[1;31m# open handles\u001b[0m\u001b[1;33m\u001b[0m\u001b[1;33m\u001b[0m\u001b[0m\n\u001b[1;32m---> 51\u001b[1;33m         \u001b[0mself\u001b[0m\u001b[1;33m.\u001b[0m\u001b[0m_open_handles\u001b[0m\u001b[1;33m(\u001b[0m\u001b[0msrc\u001b[0m\u001b[1;33m,\u001b[0m \u001b[0mkwds\u001b[0m\u001b[1;33m)\u001b[0m\u001b[1;33m\u001b[0m\u001b[1;33m\u001b[0m\u001b[0m\n\u001b[0m\u001b[0;32m     52\u001b[0m         \u001b[1;32massert\u001b[0m \u001b[0mself\u001b[0m\u001b[1;33m.\u001b[0m\u001b[0mhandles\u001b[0m \u001b[1;32mis\u001b[0m \u001b[1;32mnot\u001b[0m \u001b[1;32mNone\u001b[0m\u001b[1;33m\u001b[0m\u001b[1;33m\u001b[0m\u001b[0m\n\u001b[0;32m     53\u001b[0m \u001b[1;33m\u001b[0m\u001b[0m\n",
      "\u001b[1;32m~\\miniconda3\\envs\\geo_env\\lib\\site-packages\\pandas\\io\\parsers\\base_parser.py\u001b[0m in \u001b[0;36m_open_handles\u001b[1;34m(self, src, kwds)\u001b[0m\n\u001b[0;32m    220\u001b[0m         \u001b[0mLet\u001b[0m \u001b[0mthe\u001b[0m \u001b[0mreaders\u001b[0m \u001b[0mopen\u001b[0m \u001b[0mIOHandles\u001b[0m \u001b[0mafter\u001b[0m \u001b[0mthey\u001b[0m \u001b[0mare\u001b[0m \u001b[0mdone\u001b[0m \u001b[1;32mwith\u001b[0m \u001b[0mtheir\u001b[0m \u001b[0mpotential\u001b[0m \u001b[0mraises\u001b[0m\u001b[1;33m.\u001b[0m\u001b[1;33m\u001b[0m\u001b[1;33m\u001b[0m\u001b[0m\n\u001b[0;32m    221\u001b[0m         \"\"\"\n\u001b[1;32m--> 222\u001b[1;33m         self.handles = get_handle(\n\u001b[0m\u001b[0;32m    223\u001b[0m             \u001b[0msrc\u001b[0m\u001b[1;33m,\u001b[0m\u001b[1;33m\u001b[0m\u001b[1;33m\u001b[0m\u001b[0m\n\u001b[0;32m    224\u001b[0m             \u001b[1;34m\"r\"\u001b[0m\u001b[1;33m,\u001b[0m\u001b[1;33m\u001b[0m\u001b[1;33m\u001b[0m\u001b[0m\n",
      "\u001b[1;32m~\\miniconda3\\envs\\geo_env\\lib\\site-packages\\pandas\\io\\common.py\u001b[0m in \u001b[0;36mget_handle\u001b[1;34m(path_or_buf, mode, encoding, compression, memory_map, is_text, errors, storage_options)\u001b[0m\n\u001b[0;32m    700\u001b[0m         \u001b[1;32mif\u001b[0m \u001b[0mioargs\u001b[0m\u001b[1;33m.\u001b[0m\u001b[0mencoding\u001b[0m \u001b[1;32mand\u001b[0m \u001b[1;34m\"b\"\u001b[0m \u001b[1;32mnot\u001b[0m \u001b[1;32min\u001b[0m \u001b[0mioargs\u001b[0m\u001b[1;33m.\u001b[0m\u001b[0mmode\u001b[0m\u001b[1;33m:\u001b[0m\u001b[1;33m\u001b[0m\u001b[1;33m\u001b[0m\u001b[0m\n\u001b[0;32m    701\u001b[0m             \u001b[1;31m# Encoding\u001b[0m\u001b[1;33m\u001b[0m\u001b[1;33m\u001b[0m\u001b[0m\n\u001b[1;32m--> 702\u001b[1;33m             handle = open(\n\u001b[0m\u001b[0;32m    703\u001b[0m                 \u001b[0mhandle\u001b[0m\u001b[1;33m,\u001b[0m\u001b[1;33m\u001b[0m\u001b[1;33m\u001b[0m\u001b[0m\n\u001b[0;32m    704\u001b[0m                 \u001b[0mioargs\u001b[0m\u001b[1;33m.\u001b[0m\u001b[0mmode\u001b[0m\u001b[1;33m,\u001b[0m\u001b[1;33m\u001b[0m\u001b[1;33m\u001b[0m\u001b[0m\n",
      "\u001b[1;31mFileNotFoundError\u001b[0m: [Errno 2] No such file or directory: 'kc_house_data.csv'"
     ]
    }
   ],
   "source": [
    "data = pd.read_csv('kc_house_data.csv')"
   ]
  },
  {
   "cell_type": "markdown",
   "id": "e4cf5357",
   "metadata": {},
   "source": [
    "## 3.0 Data Description"
   ]
  },
  {
   "cell_type": "markdown",
   "id": "0b0980f7",
   "metadata": {},
   "source": [
    "### 3.1 Checking the dataframe shape"
   ]
  },
  {
   "cell_type": "code",
   "execution_count": null,
   "id": "689143bf",
   "metadata": {},
   "outputs": [],
   "source": [
    "data.shape"
   ]
  },
  {
   "cell_type": "markdown",
   "id": "715a3e8a",
   "metadata": {},
   "source": [
    "### 3.2 Checking Data Types"
   ]
  },
  {
   "cell_type": "code",
   "execution_count": null,
   "id": "0af437c1",
   "metadata": {},
   "outputs": [],
   "source": [
    "data.dtypes"
   ]
  },
  {
   "cell_type": "markdown",
   "id": "000dd1d2",
   "metadata": {},
   "source": [
    "The features we should apply a data conversion type:\n",
    "    \n",
    "* **date**: datetime"
   ]
  },
  {
   "cell_type": "markdown",
   "id": "a59b962c",
   "metadata": {},
   "source": [
    "#### 3.2.1 Date column from 'object' to 'datetime'"
   ]
  },
  {
   "cell_type": "code",
   "execution_count": null,
   "id": "fff26350",
   "metadata": {},
   "outputs": [],
   "source": [
    "data['date'] = pd.to_datetime(data['date'])"
   ]
  },
  {
   "cell_type": "markdown",
   "id": "84d3b1ff",
   "metadata": {},
   "source": [
    "### 3.4 Descriptive Statistics"
   ]
  },
  {
   "cell_type": "code",
   "execution_count": null,
   "id": "1b35ee5b",
   "metadata": {},
   "outputs": [],
   "source": [
    "pd.set_option('display.float_format', lambda x: '%.5f' % x)\n",
    "data.describe().T"
   ]
  },
  {
   "cell_type": "markdown",
   "id": "c22f774d",
   "metadata": {},
   "source": [
    "* **bedrooms**: there are houses with 0 and 33 bedrooms which are unusual. Maybe they're an data entry error and an outlier.\n",
    "* **bathrooms**: there are houses with 0 bathrooms which are unusual. Maybe it is an data entry error.\n",
    "* **yr_renovated**: there are houses with yr_renovated=0. This is possibly houses which weren't renovated. "
   ]
  },
  {
   "cell_type": "markdown",
   "id": "3db8ff6d",
   "metadata": {},
   "source": [
    "#### 3.4.1 Remove the outliers and data erros"
   ]
  },
  {
   "cell_type": "code",
   "execution_count": null,
   "id": "c2be495d",
   "metadata": {},
   "outputs": [],
   "source": [
    "data = data[(data['bedrooms']>0) & (data['bedrooms']<33) & (data['bathrooms']>0)]"
   ]
  },
  {
   "cell_type": "markdown",
   "id": "1e0d882c",
   "metadata": {},
   "source": [
    "## 4.0 Exploratory Data Analysis"
   ]
  },
  {
   "cell_type": "markdown",
   "id": "55c4f650",
   "metadata": {},
   "source": [
    "### 4.1 Hyphotesis"
   ]
  },
  {
   "cell_type": "markdown",
   "id": "a5a7513d",
   "metadata": {},
   "source": [
    "1. Newer houses are more expensive than older houses.\n",
    "2. The more bathrooms, the higher the sale value of a house.\n",
    "3. The more bedrooms, the higher the sale value of a house.\n",
    "4. Sale price is affected by the house location.\n",
    "5. The larger the land, the higher the sale price.\n",
    "6. The larger the area of the house, the higher the sale price.\n",
    "7. Houses overlooking the sea come at a higher price.\n",
    "8. The more floors, the higher the sale price.\n",
    "9. The better the condition of the house, the higher the sale price.\n",
    "10. The better the view of the property, the higher the sale price.\n",
    "11. The better the construction and design, the higher the selling price.\n",
    "12. Houses that have been renovated have a higher sale price.\n",
    "13. Houses with greater area on floors above ground level are more expensive.\n",
    "14. Houses with greater area on floors below ground level are more expensive."
   ]
  },
  {
   "cell_type": "markdown",
   "id": "e474811a",
   "metadata": {},
   "source": [
    "### 4.2 Hyphotesis Validation"
   ]
  },
  {
   "cell_type": "markdown",
   "id": "ef7e7559",
   "metadata": {},
   "source": [
    "#### 4.2.1 Newer houses are more expensive than older houses."
   ]
  },
  {
   "cell_type": "raw",
   "id": "dba11eac",
   "metadata": {},
   "source": [
    "**False**"
   ]
  },
  {
   "cell_type": "code",
   "execution_count": null,
   "id": "226feae8",
   "metadata": {},
   "outputs": [],
   "source": [
    "fig, ax = plt.subplots(1,1,figsize=(16,5))\n",
    "\n",
    "df_aux = data[['yr_built', 'price']].groupby('yr_built').median().reset_index()\n",
    "\n",
    "sns.scatterplot(data=df_aux, x='yr_built', y='price');\n",
    "plt.title('price vs yr_built');"
   ]
  },
  {
   "cell_type": "code",
   "execution_count": null,
   "id": "736d2774",
   "metadata": {},
   "outputs": [],
   "source": [
    "fig, ax = plt.subplots(1,2,figsize=(16,5))\n",
    "\n",
    "df_aux_0 = data[data['yr_renovated'] == 0][['yr_built', 'price']].groupby('yr_built').median().reset_index()\n",
    "df_aux_1 = data[data['yr_renovated'] != 0][['yr_built', 'price']].groupby('yr_built').median().reset_index()\n",
    "\n",
    "sns.scatterplot(x='yr_built', y='price', data=df_aux_0, ax=ax[0]);\n",
    "sns.scatterplot(x='yr_built', y='price', data=df_aux_1, ax=ax[1]);\n",
    "\n",
    "ax[0].set_title('houses with no renovation')\n",
    "ax[1].set_title('houses renovated');"
   ]
  },
  {
   "cell_type": "markdown",
   "id": "1deb6c1b",
   "metadata": {},
   "source": [
    "#### 4.2.2 The more bathrooms, the higher the sale value of a house."
   ]
  },
  {
   "cell_type": "markdown",
   "id": "908471a1",
   "metadata": {},
   "source": [
    "**True**"
   ]
  },
  {
   "cell_type": "code",
   "execution_count": null,
   "id": "41b30ce3",
   "metadata": {},
   "outputs": [],
   "source": [
    "fig, ax = plt.subplots(figsize=(16,6))\n",
    "\n",
    "sns.boxplot(x='bathrooms', y='price', data=data, showfliers = False);"
   ]
  },
  {
   "cell_type": "markdown",
   "id": "028d0c87",
   "metadata": {},
   "source": [
    "#### 4.2.3 The more bedrooms, the higher the sale value of a house."
   ]
  },
  {
   "cell_type": "code",
   "execution_count": null,
   "id": "703fe7ad",
   "metadata": {},
   "outputs": [],
   "source": [
    "fig, ax = plt.subplots(figsize=(16,6))\n",
    "\n",
    "sns.boxplot(x='bedrooms', y='price', data=data, showfliers = False);"
   ]
  },
  {
   "cell_type": "markdown",
   "id": "3e449732",
   "metadata": {},
   "source": [
    "#### 4.2.4 Sale price is affected by the house location."
   ]
  },
  {
   "cell_type": "code",
   "execution_count": null,
   "id": "b5c4327e",
   "metadata": {},
   "outputs": [],
   "source": [
    "import numpy as np\n",
    "import plotly.express as px\n",
    "\n",
    "df_aux = data[['zipcode', 'price']].groupby('zipcode').mean().reset_index()\n",
    "\n",
    "fig = px.treemap(df_aux,\n",
    "                 path=[px.Constant(\"Houses - Sales Price per Zip Code\"), 'zipcode'],\n",
    "                 values='price',\n",
    "                 color='price',\n",
    "                 color_continuous_scale='RdBu',\n",
    "                 color_continuous_midpoint=np.median(df_aux['price']))\n",
    "\n",
    "fig.update_layout(margin = dict(t=50, l=25, r=25, b=25))\n",
    "fig.show()"
   ]
  },
  {
   "cell_type": "markdown",
   "id": "2e985ba2",
   "metadata": {},
   "source": [
    "#### 4.2.5 The larger the land, the higher the sale price."
   ]
  },
  {
   "cell_type": "code",
   "execution_count": null,
   "id": "0d482d3e",
   "metadata": {},
   "outputs": [],
   "source": [
    "fig, ax = plt.subplots(figsize=(16,6))\n",
    "sns.scatterplot(x='sqft_lot', y='price', data=data);"
   ]
  },
  {
   "cell_type": "markdown",
   "id": "e7c89e31",
   "metadata": {},
   "source": [
    "#### 4.2.6 The larger the area of the house, the higher the sale price."
   ]
  },
  {
   "cell_type": "code",
   "execution_count": null,
   "id": "80e3401c",
   "metadata": {},
   "outputs": [],
   "source": [
    "fig, ax = plt.subplots(figsize=(16,6))\n",
    "sns.scatterplot(x='sqft_living', y='price', data=data);"
   ]
  },
  {
   "cell_type": "markdown",
   "id": "1da48d93",
   "metadata": {},
   "source": [
    "#### 4.2.7 Houses overlooking the sea come at a higher price."
   ]
  },
  {
   "cell_type": "code",
   "execution_count": null,
   "id": "e2ea0d25",
   "metadata": {},
   "outputs": [],
   "source": [
    "fig, ax = plt.subplots(figsize=(16,6))\n",
    "\n",
    "#data['is_renovated'] = data['yr_renovated'].apply(lambda yr_renovated: True if yr_renovated != 0 else False)\n",
    "df_aux = data[['waterfront', 'price']].groupby('waterfront').mean().reset_index()\n",
    "\n",
    "sns.barplot(x='waterfront', y='price', data=df_aux);"
   ]
  },
  {
   "cell_type": "markdown",
   "id": "5a8fe31e",
   "metadata": {},
   "source": [
    "#### 4.2.8 The more floors, the higher the sale price."
   ]
  },
  {
   "cell_type": "code",
   "execution_count": null,
   "id": "d3a6e099",
   "metadata": {},
   "outputs": [],
   "source": [
    "fig, ax = plt.subplots(figsize=(16,6))\n",
    "sns.boxplot(x='floors', y='price', data=data, showfliers = False);"
   ]
  },
  {
   "cell_type": "markdown",
   "id": "00e90134",
   "metadata": {},
   "source": [
    "#### 4.2.9 The better the condition of the house, the higher the sale price."
   ]
  },
  {
   "cell_type": "code",
   "execution_count": null,
   "id": "233f1776",
   "metadata": {},
   "outputs": [],
   "source": [
    "fig, ax = plt.subplots(figsize=(16,6))\n",
    "sns.boxplot(x='condition', y='price', data=data, showfliers = False);"
   ]
  },
  {
   "cell_type": "markdown",
   "id": "bb654617",
   "metadata": {},
   "source": [
    "#### 4.2.10 The better the view of the property, the higher the sale price."
   ]
  },
  {
   "cell_type": "code",
   "execution_count": null,
   "id": "cc9611db",
   "metadata": {},
   "outputs": [],
   "source": [
    "fig, ax = plt.subplots(figsize=(16,6))\n",
    "sns.boxplot(x='view', y='price', data=data, showfliers = False);"
   ]
  },
  {
   "cell_type": "markdown",
   "id": "e28cd703",
   "metadata": {},
   "source": [
    "#### 4.2.11 The better the construction and design, the higher the selling price."
   ]
  },
  {
   "cell_type": "code",
   "execution_count": null,
   "id": "dfcf00fa",
   "metadata": {},
   "outputs": [],
   "source": [
    "fig, ax = plt.subplots(figsize=(16,6))\n",
    "sns.boxplot(x='grade', y='price', data=data, showfliers = False);"
   ]
  },
  {
   "cell_type": "markdown",
   "id": "c900d375",
   "metadata": {},
   "source": [
    "#### 4.2.12 Houses that have been renovated have a higher sale price."
   ]
  },
  {
   "cell_type": "code",
   "execution_count": null,
   "id": "adbb30be",
   "metadata": {},
   "outputs": [],
   "source": [
    "fig, ax = plt.subplots(figsize=(16,6))\n",
    "\n",
    "data['is_renovated'] = data['yr_renovated'].apply(lambda yr_renovated: True if yr_renovated != 0 else False)\n",
    "df_aux = data[['is_renovated', 'price']].groupby('is_renovated').mean().reset_index()\n",
    "\n",
    "sns.barplot(x='is_renovated', y='price', data=df_aux);"
   ]
  },
  {
   "cell_type": "markdown",
   "id": "94b8f9cc",
   "metadata": {},
   "source": [
    "#### 4.2.13 Houses with greater area on floors above ground level are more expensive."
   ]
  },
  {
   "cell_type": "code",
   "execution_count": null,
   "id": "46c55968",
   "metadata": {},
   "outputs": [],
   "source": [
    "fig, ax = plt.subplots(figsize=(16,6))\n",
    "sns.scatterplot(x='sqft_above', y='price', data=data);"
   ]
  },
  {
   "cell_type": "markdown",
   "id": "0ca73142",
   "metadata": {},
   "source": [
    "#### 4.2.14 Houses with greater area on floors below ground level are more expensive."
   ]
  },
  {
   "cell_type": "code",
   "execution_count": null,
   "id": "c9518a58",
   "metadata": {},
   "outputs": [],
   "source": [
    "fig, ax = plt.subplots(figsize=(16,6))\n",
    "sns.scatterplot(x='sqft_basement', y='price', data=data);"
   ]
  },
  {
   "cell_type": "markdown",
   "id": "f74624a8",
   "metadata": {},
   "source": [
    "#### 4.2.15 People tend to buy less houses in the end and beginning of the year"
   ]
  },
  {
   "cell_type": "code",
   "execution_count": null,
   "id": "7bce983e",
   "metadata": {},
   "outputs": [],
   "source": [
    "fig, ax = plt.subplots(1,2,figsize=(16,5))\n",
    "\n",
    "data['month_sold'] = data['date'].dt.month\n",
    "df_aux_count = data[['month_sold', 'id']].groupby(['month_sold']).count().reset_index()\n",
    "\n",
    "sns.barplot(data=df_aux_count, x='month_sold', y='id', ax=ax[0])\n",
    "sns.lineplot(data=data, x='month_sold', y='price', ax=ax[1])\n",
    "\n",
    "ax[0].set_title('# of houses sold by month')\n",
    "ax[1].set_title('avg. price of houses sold by month (with min and max price)');"
   ]
  },
  {
   "cell_type": "markdown",
   "id": "450745e4",
   "metadata": {},
   "source": [
    "## Dashboard Development"
   ]
  },
  {
   "cell_type": "markdown",
   "id": "18c5ef66",
   "metadata": {},
   "source": [
    "* Writing the dashboard I want to publish on Heroku"
   ]
  },
  {
   "cell_type": "code",
   "execution_count": 22,
   "id": "1a0c6595",
   "metadata": {},
   "outputs": [
    {
     "name": "stdout",
     "output_type": "stream",
     "text": [
      "Overwriting ../1-dashboard-dev/dashboard.py\n"
     ]
    }
   ],
   "source": [
    "%%writefile ../1-dashboard-dev/dashboard.py\n",
    "import folium\n",
    "import geopandas\n",
    "import numpy as np\n",
    "import pandas as pd\n",
    "import streamlit as st\n",
    "import plotly.express as px\n",
    "from datetime import datetime\n",
    "from folium.plugins import MarkerCluster\n",
    "from streamlit_folium import folium_static\n",
    "\n",
    "st.set_page_config(layout='wide')\n",
    "\n",
    "@st.cache(allow_output_mutation=True)\n",
    "def get_data(path):\n",
    "    data = pd.read_csv(path)\n",
    "    return data\n",
    "\n",
    "@st.cache(allow_output_mutation=True)\n",
    "def get_geofile( url ):\n",
    "    geofile = geopandas.read_file( url )\n",
    "    return geofile\n",
    "\n",
    "def filter_dataframe(data, f_zipcode, f_attributes):\n",
    "    if f_attributes != [] and f_attributes not in f_attributes:\n",
    "        f_attributes = list(dict.fromkeys(['zipcode'] + f_attributes))\n",
    "    \n",
    "    if f_attributes != [] and f_zipcode != []:\n",
    "        df_metrics = data.loc[data['zipcode'].isin(f_zipcode), f_attributes].copy()\n",
    "    elif f_attributes == [] and f_zipcode != []:\n",
    "        df_metrics = data.loc[data['zipcode'].isin(f_zipcode), :].copy()\n",
    "    elif f_attributes != [] and f_zipcode == []:\n",
    "        df_metrics = data.loc[:, f_attributes].copy()\n",
    "    else:\n",
    "        df_metrics = data.copy()\n",
    "\n",
    "    return df_metrics\n",
    "\n",
    "def generate_filtered_dataset(data, col, f_zipcode, f_attributes):\n",
    "    if f_attributes != [] and f_attributes not in f_attributes:\n",
    "        f_attributes = list(dict.fromkeys([col] + f_attributes))\n",
    "    \n",
    "    df_metrics = filter_dataframe(data, f_zipcode, f_attributes)\n",
    "    \n",
    "    if df_metrics[col].dtype in ['byte', 'int8', 'int32', 'int64']:\n",
    "        df_metrics[[col, 'zipcode']].groupby('zipcode').count().reset_index()\n",
    "        \n",
    "    return df_metrics[[col, 'zipcode']].groupby('zipcode').mean().reset_index()\n",
    "\n",
    "\n",
    "# Data Ingest\n",
    "path = 'kc_house_data.csv'\n",
    "data = get_data(path)\n",
    "\n",
    "# Get Zip Codes Data from ArcGis\n",
    "#url = 'https://opendata.arcgis.com/datasets/83fc2e72903343aabff6de8cb445b81c_2.geojson'\n",
    "url = 'Zip_Codes.geojson'\n",
    "geofile = get_geofile( url )\n",
    "\n",
    "# Feature Engineering\n",
    "data['price_m2'] = data['price']/(data['sqft_lot']/10.764)\n",
    "data['date'] = pd.to_datetime(data['date'])\n",
    "data['yr_built'] = data['yr_built'].astype(int)\n",
    "\n",
    "# Add image to sidebar\n",
    "st.sidebar.image(\"https://cdn4.iconfinder.com/data/icons/02-real-estate-outline-colors/91/RealEstate-64-512.png\", use_column_width=True)\n",
    "\n",
    "# Add title to sidebar\n",
    "st.sidebar.title('Table filters')\n",
    "\n",
    "# Add filtering options to the dataframe\n",
    "f_attributes = st.sidebar.multiselect('Enter columns', [col for col in data.columns if col != 'zipcode'])\n",
    "f_zipcode = st.sidebar.multiselect('Enter zipcode(s)', np.sort(data['zipcode'].unique()))\n",
    "\n",
    "# Apply the filters\n",
    "df = filter_dataframe(data, f_zipcode, f_attributes)\n",
    "\n",
    "# Main page title\n",
    "st.title('House sales price - Data analysis')\n",
    "\n",
    "# Header to the Dataframe\n",
    "st.header('Data Sample (showing only a sample of 20 houses)')\n",
    "\n",
    "#Show the top 20 of our dataframe\n",
    "st.dataframe(df.head(20))\n",
    "\n",
    "# Divide main page in two columns\n",
    "c1, c2 = st.columns((1, 1)) \n",
    "\n",
    "# Generate filtered data to apply some stats on\n",
    "df1 = generate_filtered_dataset(data, 'id', f_zipcode, f_attributes)\n",
    "df2 = generate_filtered_dataset(data, 'price', f_zipcode, f_attributes)\n",
    "df3 = generate_filtered_dataset(data, 'sqft_living', f_zipcode, f_attributes)\n",
    "df4 = generate_filtered_dataset(data, 'price_m2', f_zipcode, f_attributes)\n",
    "\n",
    "m1 = pd.merge(df1, df2, on='zipcode', how='inner')\n",
    "m2 = pd.merge(m1,  df3, on='zipcode', how='inner')\n",
    "m3 = pd.merge(m2,  df4, on='zipcode', how='inner')\n",
    "\n",
    "m3.columns = ['ZIP code', 'Total houses', 'price', 'SQRT living','Price/m\\u00b2']\n",
    "\n",
    "c1.header('Average per zipcode')\n",
    "c1.dataframe(m3.head(8), height=600)\n",
    "\n",
    "c2.header('Descriptive statistics')\n",
    "c2.dataframe(df.describe(include=['float', 'int']), height=800)\n",
    "\n",
    "st.title('Region overview')\n",
    "\n",
    "c1, c2 = st.columns(( 1, 1 ))\n",
    "c1.header('Portfolio density')\n",
    "\n",
    "df = data.sample(50)\n",
    " \n",
    "density_map = folium.Map( location=[data['lat'].mean(), \n",
    "                          data['long'].mean() ],\n",
    "                          default_zoom_start=15) \n",
    "\n",
    "marker_cluster = MarkerCluster().add_to( density_map )\n",
    "for name, row in df.iterrows():\n",
    "    folium.Marker( [row['lat'], row['long'] ], \n",
    "        popup='Sold R${0} on: {1}. Features: {2} sqft, {3} bedrooms, {4} bathrooms, year built: {5}'.format( row['price'],\n",
    "                                     row['date'],\n",
    "                                     row['sqft_living'],\n",
    "                                     row['bedrooms'],\n",
    "                                     row['bathrooms'],\n",
    "                                     row['yr_built'] ) ).add_to( marker_cluster )\n",
    "with c1:\n",
    "    folium_static( density_map )\n",
    "\n",
    "    \n",
    "c2.header('Price density')\n",
    "\n",
    "df = data[['price', 'zipcode']].groupby( 'zipcode' ).mean().reset_index()\n",
    "df.columns = ['ZIP', 'PRICE']\n",
    "\n",
    "\n",
    "geofile = geofile[geofile['ZIP'].isin(df['ZIP'].tolist())]\n",
    "\n",
    "region_price_map = folium.Map(location=[data['lat'].mean(), \n",
    "                               data['long'].mean()],\n",
    "                               default_zoom_start=15) \n",
    "\n",
    "region_price_map.choropleth(data = df,\n",
    "                             geo_data = geofile,\n",
    "                             columns=['ZIP', 'PRICE'],\n",
    "                             key_on='feature.properties.ZIP',\n",
    "                             fill_color='YlOrRd',\n",
    "                             fill_opacity = 0.7,\n",
    "                             line_opacity = 0.2,\n",
    "                             legend_name='AVG PRICE')\n",
    "with c2:\n",
    "    folium_static(region_price_map)\n",
    "    \n",
    "st.sidebar.title('Commercial options')\n",
    "st.title('Commercial attributes')\n",
    "\n",
    "min_year_built = int(data['yr_built'].min())\n",
    "max_year_built = int(data['yr_built'].max())+1\n",
    "mean_year_built = int(data['yr_built'].mean())\n",
    "\n",
    "st.sidebar.subheader('Select Max Year Built')\n",
    "f_yr_built = st.sidebar.slider('Year Built', min_year_built, max_year_built, mean_year_built)\n",
    "\n",
    "st.header('Average Price Per Year Built')\n",
    "df = data[data['yr_built']<f_yr_built]\n",
    "df = df[['price', 'yr_built']].groupby('yr_built').mean().reset_index()\n",
    "\n",
    "df = data[['price', 'yr_built']].groupby( 'yr_built' ).mean().reset_index()\n",
    "fig = px.line(df, x='yr_built', y='price')\n",
    "\n",
    "st.plotly_chart(fig, use_container_width=True)\n",
    "\n",
    "min_date = datetime.strptime(datetime.strftime(data['date'].min(), '%Y-%m-%d'), '%Y-%m-%d')\n",
    "max_date = datetime.strptime(datetime.strftime(data['date'].max(), '%Y-%m-%d'), '%Y-%m-%d')\n",
    "mode_date = datetime.strptime(datetime.strftime(data['date'].mode()[0], '%Y-%m-%d'), '%Y-%m-%d')\n",
    "\n",
    "st.sidebar.subheader('Select max date')\n",
    "print(min_date, type(min_date))\n",
    "f_date = st.sidebar.slider('Date', min_date, max_date, mode_date)\n",
    "\n",
    "st.header('Average price per date')\n",
    "df = data[data['date']<f_date]\n",
    "df = df[['price', 'date']].groupby('date').mean().reset_index()\n",
    "\n",
    "fig = px.line(df, x='date', y='price')\n",
    "\n",
    "st.plotly_chart(fig, use_container_width=True)\n",
    "\n",
    "st.header('Price Distribution')\n",
    "st.sidebar.subheader('Select Max Price')\n",
    "\n",
    "min_price = int(data['price'].min())\n",
    "max_price = int(data['price'].max())+1\n",
    "mean_price = int(data['price'].mean())\n",
    "\n",
    "f_price=st.sidebar.slider('Price', min_price, max_price, mean_price)\n",
    "\n",
    "df = data[data['price']<f_price]\n",
    "fig = px.histogram(df, x='price', nbins=50)\n",
    "\n",
    "st.plotly_chart(fig, use_container_width=True)\n",
    "\n",
    "st.title('House attributes')\n",
    "c1, c2 = st.columns((1, 1))\n",
    "\n",
    "st.sidebar.title('House attributes options')\n",
    "\n",
    "f_bedrooms=st.sidebar.selectbox('Maximum number of bedrooms', np.sort(data['bedrooms'].unique()), index=4)\n",
    "df = data[data['bedrooms']<=f_bedrooms]\n",
    "c1.header('# of houses given a maximum of bedrooms')\n",
    "fig = px.histogram(df, x='bedrooms', nbins=19)\n",
    "c1.plotly_chart(fig, use_container_width=True)\n",
    "\n",
    "f_bathrooms=st.sidebar.selectbox('Maximum number of bathrooms', np.sort(data['bathrooms'].unique()), index=2)\n",
    "df = data[data['bathrooms']<=f_bathrooms]\n",
    "c1.header('# of houses given a maximum of bathrooms')\n",
    "fig = px.histogram(data, x='bathrooms', nbins=19)\n",
    "c1.plotly_chart(fig, use_container_width=True)\n",
    "\n",
    "f_floors=st.sidebar.selectbox('Maximum number of floors', np.sort(data['floors'].unique()), index=2)\n",
    "df = data[data['floors']<=f_floors]\n",
    "c2.header('# of houses given a maximum of floors')\n",
    "fig = px.histogram(data, x='floors', nbins=19)\n",
    "c2.plotly_chart(fig, use_container_width=True)\n",
    "\n",
    "f_waterfront=st.sidebar.selectbox('Maximum number of waterfront', np.sort(data['waterfront'].unique()), index=0)\n",
    "df = data[data['waterfront']<=f_waterfront]\n",
    "c2.header('# of houses given a maximum of waterfront')\n",
    "fig = px.histogram(data, x='waterfront', nbins=19)\n",
    "c2.plotly_chart(fig, use_container_width=True)"
   ]
  },
  {
   "cell_type": "code",
   "execution_count": null,
   "id": "473e83f2",
   "metadata": {},
   "outputs": [],
   "source": []
  }
 ],
 "metadata": {
  "kernelspec": {
   "display_name": "Python 3 (ipykernel)",
   "language": "python",
   "name": "python3"
  },
  "language_info": {
   "codemirror_mode": {
    "name": "ipython",
    "version": 3
   },
   "file_extension": ".py",
   "mimetype": "text/x-python",
   "name": "python",
   "nbconvert_exporter": "python",
   "pygments_lexer": "ipython3",
   "version": "3.10.1"
  }
 },
 "nbformat": 4,
 "nbformat_minor": 5
}
