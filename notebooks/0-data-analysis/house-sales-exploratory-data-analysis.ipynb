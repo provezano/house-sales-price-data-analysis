{
 "cells": [
  {
   "cell_type": "markdown",
   "id": "b15cd552",
   "metadata": {},
   "source": [
    "# House Price Sales"
   ]
  },
  {
   "cell_type": "markdown",
   "id": "7d8e2e38",
   "metadata": {},
   "source": [
    "## 1.0 Libraries"
   ]
  },
  {
   "cell_type": "code",
   "execution_count": 1,
   "id": "05cc7402",
   "metadata": {},
   "outputs": [],
   "source": [
    "import pandas as pd\n",
    "import seaborn as sns\n",
    "import matplotlib.pyplot as plt"
   ]
  },
  {
   "cell_type": "markdown",
   "id": "6cda5c52",
   "metadata": {},
   "source": [
    "## 2.0 Data Ingest"
   ]
  },
  {
   "cell_type": "code",
   "execution_count": 3,
   "id": "ec74adfa",
   "metadata": {},
   "outputs": [],
   "source": [
    "data = pd.read_csv('kc_house_data.csv')"
   ]
  },
  {
   "cell_type": "markdown",
   "id": "e4cf5357",
   "metadata": {},
   "source": [
    "## 3.0 Data Description"
   ]
  },
  {
   "cell_type": "markdown",
   "id": "0b0980f7",
   "metadata": {},
   "source": [
    "### 3.1 Checking the dataframe shape"
   ]
  },
  {
   "cell_type": "code",
   "execution_count": 4,
   "id": "689143bf",
   "metadata": {},
   "outputs": [
    {
     "data": {
      "text/plain": [
       "(21613, 21)"
      ]
     },
     "execution_count": 4,
     "metadata": {},
     "output_type": "execute_result"
    }
   ],
   "source": [
    "data.shape"
   ]
  },
  {
   "cell_type": "markdown",
   "id": "715a3e8a",
   "metadata": {},
   "source": [
    "### 3.2 Checking Data Types"
   ]
  },
  {
   "cell_type": "code",
   "execution_count": 5,
   "id": "0af437c1",
   "metadata": {},
   "outputs": [
    {
     "data": {
      "text/plain": [
       "id                 int64\n",
       "date              object\n",
       "price            float64\n",
       "bedrooms           int64\n",
       "bathrooms        float64\n",
       "sqft_living        int64\n",
       "sqft_lot           int64\n",
       "floors           float64\n",
       "waterfront         int64\n",
       "view               int64\n",
       "condition          int64\n",
       "grade              int64\n",
       "sqft_above         int64\n",
       "sqft_basement      int64\n",
       "yr_built           int64\n",
       "yr_renovated       int64\n",
       "zipcode            int64\n",
       "lat              float64\n",
       "long             float64\n",
       "sqft_living15      int64\n",
       "sqft_lot15         int64\n",
       "dtype: object"
      ]
     },
     "execution_count": 5,
     "metadata": {},
     "output_type": "execute_result"
    }
   ],
   "source": [
    "data.dtypes"
   ]
  },
  {
   "cell_type": "markdown",
   "id": "000dd1d2",
   "metadata": {},
   "source": [
    "The features we should apply a data conversion type:\n",
    "    \n",
    "* **date**: datetime"
   ]
  },
  {
   "cell_type": "markdown",
   "id": "a59b962c",
   "metadata": {},
   "source": [
    "#### 3.2.1 Date column from 'object' to 'datetime'"
   ]
  },
  {
   "cell_type": "code",
   "execution_count": 135,
   "id": "fff26350",
   "metadata": {},
   "outputs": [],
   "source": [
    "data['date'] = pd.to_datetime(data['date'])"
   ]
  },
  {
   "cell_type": "markdown",
   "id": "84d3b1ff",
   "metadata": {},
   "source": [
    "### 3.4 Descriptive Statistics"
   ]
  },
  {
   "cell_type": "code",
   "execution_count": 7,
   "id": "1b35ee5b",
   "metadata": {},
   "outputs": [
    {
     "data": {
      "text/html": [
       "<div>\n",
       "<style scoped>\n",
       "    .dataframe tbody tr th:only-of-type {\n",
       "        vertical-align: middle;\n",
       "    }\n",
       "\n",
       "    .dataframe tbody tr th {\n",
       "        vertical-align: top;\n",
       "    }\n",
       "\n",
       "    .dataframe thead th {\n",
       "        text-align: right;\n",
       "    }\n",
       "</style>\n",
       "<table border=\"1\" class=\"dataframe\">\n",
       "  <thead>\n",
       "    <tr style=\"text-align: right;\">\n",
       "      <th></th>\n",
       "      <th>count</th>\n",
       "      <th>mean</th>\n",
       "      <th>std</th>\n",
       "      <th>min</th>\n",
       "      <th>25%</th>\n",
       "      <th>50%</th>\n",
       "      <th>75%</th>\n",
       "      <th>max</th>\n",
       "    </tr>\n",
       "  </thead>\n",
       "  <tbody>\n",
       "    <tr>\n",
       "      <th>id</th>\n",
       "      <td>21613.00000</td>\n",
       "      <td>4580301520.86499</td>\n",
       "      <td>2876565571.31206</td>\n",
       "      <td>1000102.00000</td>\n",
       "      <td>2123049194.00000</td>\n",
       "      <td>3904930410.00000</td>\n",
       "      <td>7308900445.00000</td>\n",
       "      <td>9900000190.00000</td>\n",
       "    </tr>\n",
       "    <tr>\n",
       "      <th>price</th>\n",
       "      <td>21613.00000</td>\n",
       "      <td>540088.14177</td>\n",
       "      <td>367127.19648</td>\n",
       "      <td>75000.00000</td>\n",
       "      <td>321950.00000</td>\n",
       "      <td>450000.00000</td>\n",
       "      <td>645000.00000</td>\n",
       "      <td>7700000.00000</td>\n",
       "    </tr>\n",
       "    <tr>\n",
       "      <th>bedrooms</th>\n",
       "      <td>21613.00000</td>\n",
       "      <td>3.37084</td>\n",
       "      <td>0.93006</td>\n",
       "      <td>0.00000</td>\n",
       "      <td>3.00000</td>\n",
       "      <td>3.00000</td>\n",
       "      <td>4.00000</td>\n",
       "      <td>33.00000</td>\n",
       "    </tr>\n",
       "    <tr>\n",
       "      <th>bathrooms</th>\n",
       "      <td>21613.00000</td>\n",
       "      <td>2.11476</td>\n",
       "      <td>0.77016</td>\n",
       "      <td>0.00000</td>\n",
       "      <td>1.75000</td>\n",
       "      <td>2.25000</td>\n",
       "      <td>2.50000</td>\n",
       "      <td>8.00000</td>\n",
       "    </tr>\n",
       "    <tr>\n",
       "      <th>sqft_living</th>\n",
       "      <td>21613.00000</td>\n",
       "      <td>2079.89974</td>\n",
       "      <td>918.44090</td>\n",
       "      <td>290.00000</td>\n",
       "      <td>1427.00000</td>\n",
       "      <td>1910.00000</td>\n",
       "      <td>2550.00000</td>\n",
       "      <td>13540.00000</td>\n",
       "    </tr>\n",
       "    <tr>\n",
       "      <th>sqft_lot</th>\n",
       "      <td>21613.00000</td>\n",
       "      <td>15106.96757</td>\n",
       "      <td>41420.51152</td>\n",
       "      <td>520.00000</td>\n",
       "      <td>5040.00000</td>\n",
       "      <td>7618.00000</td>\n",
       "      <td>10688.00000</td>\n",
       "      <td>1651359.00000</td>\n",
       "    </tr>\n",
       "    <tr>\n",
       "      <th>floors</th>\n",
       "      <td>21613.00000</td>\n",
       "      <td>1.49431</td>\n",
       "      <td>0.53999</td>\n",
       "      <td>1.00000</td>\n",
       "      <td>1.00000</td>\n",
       "      <td>1.50000</td>\n",
       "      <td>2.00000</td>\n",
       "      <td>3.50000</td>\n",
       "    </tr>\n",
       "    <tr>\n",
       "      <th>waterfront</th>\n",
       "      <td>21613.00000</td>\n",
       "      <td>0.00754</td>\n",
       "      <td>0.08652</td>\n",
       "      <td>0.00000</td>\n",
       "      <td>0.00000</td>\n",
       "      <td>0.00000</td>\n",
       "      <td>0.00000</td>\n",
       "      <td>1.00000</td>\n",
       "    </tr>\n",
       "    <tr>\n",
       "      <th>view</th>\n",
       "      <td>21613.00000</td>\n",
       "      <td>0.23430</td>\n",
       "      <td>0.76632</td>\n",
       "      <td>0.00000</td>\n",
       "      <td>0.00000</td>\n",
       "      <td>0.00000</td>\n",
       "      <td>0.00000</td>\n",
       "      <td>4.00000</td>\n",
       "    </tr>\n",
       "    <tr>\n",
       "      <th>condition</th>\n",
       "      <td>21613.00000</td>\n",
       "      <td>3.40943</td>\n",
       "      <td>0.65074</td>\n",
       "      <td>1.00000</td>\n",
       "      <td>3.00000</td>\n",
       "      <td>3.00000</td>\n",
       "      <td>4.00000</td>\n",
       "      <td>5.00000</td>\n",
       "    </tr>\n",
       "    <tr>\n",
       "      <th>grade</th>\n",
       "      <td>21613.00000</td>\n",
       "      <td>7.65687</td>\n",
       "      <td>1.17546</td>\n",
       "      <td>1.00000</td>\n",
       "      <td>7.00000</td>\n",
       "      <td>7.00000</td>\n",
       "      <td>8.00000</td>\n",
       "      <td>13.00000</td>\n",
       "    </tr>\n",
       "    <tr>\n",
       "      <th>sqft_above</th>\n",
       "      <td>21613.00000</td>\n",
       "      <td>1788.39069</td>\n",
       "      <td>828.09098</td>\n",
       "      <td>290.00000</td>\n",
       "      <td>1190.00000</td>\n",
       "      <td>1560.00000</td>\n",
       "      <td>2210.00000</td>\n",
       "      <td>9410.00000</td>\n",
       "    </tr>\n",
       "    <tr>\n",
       "      <th>sqft_basement</th>\n",
       "      <td>21613.00000</td>\n",
       "      <td>291.50905</td>\n",
       "      <td>442.57504</td>\n",
       "      <td>0.00000</td>\n",
       "      <td>0.00000</td>\n",
       "      <td>0.00000</td>\n",
       "      <td>560.00000</td>\n",
       "      <td>4820.00000</td>\n",
       "    </tr>\n",
       "    <tr>\n",
       "      <th>yr_built</th>\n",
       "      <td>21613.00000</td>\n",
       "      <td>1971.00514</td>\n",
       "      <td>29.37341</td>\n",
       "      <td>1900.00000</td>\n",
       "      <td>1951.00000</td>\n",
       "      <td>1975.00000</td>\n",
       "      <td>1997.00000</td>\n",
       "      <td>2015.00000</td>\n",
       "    </tr>\n",
       "    <tr>\n",
       "      <th>yr_renovated</th>\n",
       "      <td>21613.00000</td>\n",
       "      <td>84.40226</td>\n",
       "      <td>401.67924</td>\n",
       "      <td>0.00000</td>\n",
       "      <td>0.00000</td>\n",
       "      <td>0.00000</td>\n",
       "      <td>0.00000</td>\n",
       "      <td>2015.00000</td>\n",
       "    </tr>\n",
       "    <tr>\n",
       "      <th>zipcode</th>\n",
       "      <td>21613.00000</td>\n",
       "      <td>98077.93980</td>\n",
       "      <td>53.50503</td>\n",
       "      <td>98001.00000</td>\n",
       "      <td>98033.00000</td>\n",
       "      <td>98065.00000</td>\n",
       "      <td>98118.00000</td>\n",
       "      <td>98199.00000</td>\n",
       "    </tr>\n",
       "    <tr>\n",
       "      <th>lat</th>\n",
       "      <td>21613.00000</td>\n",
       "      <td>47.56005</td>\n",
       "      <td>0.13856</td>\n",
       "      <td>47.15590</td>\n",
       "      <td>47.47100</td>\n",
       "      <td>47.57180</td>\n",
       "      <td>47.67800</td>\n",
       "      <td>47.77760</td>\n",
       "    </tr>\n",
       "    <tr>\n",
       "      <th>long</th>\n",
       "      <td>21613.00000</td>\n",
       "      <td>-122.21390</td>\n",
       "      <td>0.14083</td>\n",
       "      <td>-122.51900</td>\n",
       "      <td>-122.32800</td>\n",
       "      <td>-122.23000</td>\n",
       "      <td>-122.12500</td>\n",
       "      <td>-121.31500</td>\n",
       "    </tr>\n",
       "    <tr>\n",
       "      <th>sqft_living15</th>\n",
       "      <td>21613.00000</td>\n",
       "      <td>1986.55249</td>\n",
       "      <td>685.39130</td>\n",
       "      <td>399.00000</td>\n",
       "      <td>1490.00000</td>\n",
       "      <td>1840.00000</td>\n",
       "      <td>2360.00000</td>\n",
       "      <td>6210.00000</td>\n",
       "    </tr>\n",
       "    <tr>\n",
       "      <th>sqft_lot15</th>\n",
       "      <td>21613.00000</td>\n",
       "      <td>12768.45565</td>\n",
       "      <td>27304.17963</td>\n",
       "      <td>651.00000</td>\n",
       "      <td>5100.00000</td>\n",
       "      <td>7620.00000</td>\n",
       "      <td>10083.00000</td>\n",
       "      <td>871200.00000</td>\n",
       "    </tr>\n",
       "  </tbody>\n",
       "</table>\n",
       "</div>"
      ],
      "text/plain": [
       "                    count             mean              std           min  \\\n",
       "id            21613.00000 4580301520.86499 2876565571.31206 1000102.00000   \n",
       "price         21613.00000     540088.14177     367127.19648   75000.00000   \n",
       "bedrooms      21613.00000          3.37084          0.93006       0.00000   \n",
       "bathrooms     21613.00000          2.11476          0.77016       0.00000   \n",
       "sqft_living   21613.00000       2079.89974        918.44090     290.00000   \n",
       "sqft_lot      21613.00000      15106.96757      41420.51152     520.00000   \n",
       "floors        21613.00000          1.49431          0.53999       1.00000   \n",
       "waterfront    21613.00000          0.00754          0.08652       0.00000   \n",
       "view          21613.00000          0.23430          0.76632       0.00000   \n",
       "condition     21613.00000          3.40943          0.65074       1.00000   \n",
       "grade         21613.00000          7.65687          1.17546       1.00000   \n",
       "sqft_above    21613.00000       1788.39069        828.09098     290.00000   \n",
       "sqft_basement 21613.00000        291.50905        442.57504       0.00000   \n",
       "yr_built      21613.00000       1971.00514         29.37341    1900.00000   \n",
       "yr_renovated  21613.00000         84.40226        401.67924       0.00000   \n",
       "zipcode       21613.00000      98077.93980         53.50503   98001.00000   \n",
       "lat           21613.00000         47.56005          0.13856      47.15590   \n",
       "long          21613.00000       -122.21390          0.14083    -122.51900   \n",
       "sqft_living15 21613.00000       1986.55249        685.39130     399.00000   \n",
       "sqft_lot15    21613.00000      12768.45565      27304.17963     651.00000   \n",
       "\n",
       "                           25%              50%              75%  \\\n",
       "id            2123049194.00000 3904930410.00000 7308900445.00000   \n",
       "price             321950.00000     450000.00000     645000.00000   \n",
       "bedrooms               3.00000          3.00000          4.00000   \n",
       "bathrooms              1.75000          2.25000          2.50000   \n",
       "sqft_living         1427.00000       1910.00000       2550.00000   \n",
       "sqft_lot            5040.00000       7618.00000      10688.00000   \n",
       "floors                 1.00000          1.50000          2.00000   \n",
       "waterfront             0.00000          0.00000          0.00000   \n",
       "view                   0.00000          0.00000          0.00000   \n",
       "condition              3.00000          3.00000          4.00000   \n",
       "grade                  7.00000          7.00000          8.00000   \n",
       "sqft_above          1190.00000       1560.00000       2210.00000   \n",
       "sqft_basement          0.00000          0.00000        560.00000   \n",
       "yr_built            1951.00000       1975.00000       1997.00000   \n",
       "yr_renovated           0.00000          0.00000          0.00000   \n",
       "zipcode            98033.00000      98065.00000      98118.00000   \n",
       "lat                   47.47100         47.57180         47.67800   \n",
       "long                -122.32800       -122.23000       -122.12500   \n",
       "sqft_living15       1490.00000       1840.00000       2360.00000   \n",
       "sqft_lot15          5100.00000       7620.00000      10083.00000   \n",
       "\n",
       "                           max  \n",
       "id            9900000190.00000  \n",
       "price            7700000.00000  \n",
       "bedrooms              33.00000  \n",
       "bathrooms              8.00000  \n",
       "sqft_living        13540.00000  \n",
       "sqft_lot         1651359.00000  \n",
       "floors                 3.50000  \n",
       "waterfront             1.00000  \n",
       "view                   4.00000  \n",
       "condition              5.00000  \n",
       "grade                 13.00000  \n",
       "sqft_above          9410.00000  \n",
       "sqft_basement       4820.00000  \n",
       "yr_built            2015.00000  \n",
       "yr_renovated        2015.00000  \n",
       "zipcode            98199.00000  \n",
       "lat                   47.77760  \n",
       "long                -121.31500  \n",
       "sqft_living15       6210.00000  \n",
       "sqft_lot15        871200.00000  "
      ]
     },
     "execution_count": 7,
     "metadata": {},
     "output_type": "execute_result"
    }
   ],
   "source": [
    "pd.set_option('display.float_format', lambda x: '%.5f' % x)\n",
    "data.describe().T"
   ]
  },
  {
   "cell_type": "markdown",
   "id": "c22f774d",
   "metadata": {},
   "source": [
    "* **bedrooms**: there are houses with 0 and 33 bedrooms which are unusual. Maybe they're an data entry error and an outlier.\n",
    "* **bathrooms**: there are houses with 0 bathrooms which are unusual. Maybe it is an data entry error.\n",
    "* **yr_renovated**: there are houses with yr_renovated=0. This is possibly houses which weren't renovated. "
   ]
  },
  {
   "cell_type": "markdown",
   "id": "3db8ff6d",
   "metadata": {},
   "source": [
    "#### 3.4.1 Remove the outliers and data erros"
   ]
  },
  {
   "cell_type": "code",
   "execution_count": 8,
   "id": "c2be495d",
   "metadata": {},
   "outputs": [],
   "source": [
    "data = data[(data['bedrooms']>0) & (data['bedrooms']<33) & (data['bathrooms']>0)]"
   ]
  },
  {
   "cell_type": "markdown",
   "id": "1e0d882c",
   "metadata": {},
   "source": [
    "## 4.0 Exploratory Data Analysis"
   ]
  },
  {
   "cell_type": "markdown",
   "id": "55c4f650",
   "metadata": {},
   "source": [
    "### 4.1 Hyphotesis"
   ]
  },
  {
   "cell_type": "markdown",
   "id": "a5a7513d",
   "metadata": {},
   "source": [
    "1. Newer houses are more expensive than older houses.\n",
    "2. The more bathrooms, the higher the sale value of a house.\n",
    "3. The more bedrooms, the higher the sale value of a house.\n",
    "4. Sale price is affected by the house location.\n",
    "5. The larger the land, the higher the sale price.\n",
    "6. The larger the area of the house, the higher the sale price.\n",
    "7. Houses overlooking the sea come at a higher price.\n",
    "8. The more floors, the higher the sale price.\n",
    "9. The better the condition of the house, the higher the sale price.\n",
    "10. The better the view of the property, the higher the sale price.\n",
    "11. The better the construction and design, the higher the selling price.\n",
    "12. Houses that have been renovated have a higher sale price.\n",
    "13. Houses with greater area on floors above ground level are more expensive.\n",
    "14. Houses with greater area on floors below ground level are more expensive."
   ]
  },
  {
   "cell_type": "markdown",
   "id": "e474811a",
   "metadata": {},
   "source": [
    "### 4.2 Hyphotesis Validation"
   ]
  },
  {
   "cell_type": "markdown",
   "id": "ef7e7559",
   "metadata": {},
   "source": [
    "#### 4.2.1 Newer houses are more expensive than older houses."
   ]
  },
  {
   "cell_type": "raw",
   "id": "dba11eac",
   "metadata": {},
   "source": [
    "**False**"
   ]
  },
  {
   "cell_type": "code",
   "execution_count": 44,
   "id": "226feae8",
   "metadata": {},
   "outputs": [
    {
     "data": {
      "image/png": "[encoded data removed]",
      "text/plain": [
       "<Figure size 1152x360 with 1 Axes>"
      ]
     },
     "metadata": {
      "needs_background": "light"
     },
     "output_type": "display_data"
    }
   ],
   "source": [
    "fig, ax = plt.subplots(1,1,figsize=(16,5))\n",
    "\n",
    "df_aux = data[['yr_built', 'price']].groupby('yr_built').median().reset_index()\n",
    "\n",
    "sns.scatterplot(data=df_aux, x='yr_built', y='price');\n",
    "plt.title('price vs yr_built');"
   ]
  },
  {
   "cell_type": "code",
   "execution_count": 45,
   "id": "736d2774",
   "metadata": {},
   "outputs": [
    {
     "data": {
      "image/png": "[encoded data removed]",
      "text/plain": [
       "<Figure size 1152x360 with 2 Axes>"
      ]
     },
     "metadata": {
      "needs_background": "light"
     },
     "output_type": "display_data"
    }
   ],
   "source": [
    "fig, ax = plt.subplots(1,2,figsize=(16,5))\n",
    "\n",
    "df_aux_0 = data[data['yr_renovated'] == 0][['yr_built', 'price']].groupby('yr_built').median().reset_index()\n",
    "df_aux_1 = data[data['yr_renovated'] != 0][['yr_built', 'price']].groupby('yr_built').median().reset_index()\n",
    "\n",
    "sns.scatterplot(x='yr_built', y='price', data=df_aux_0, ax=ax[0]);\n",
    "sns.scatterplot(x='yr_built', y='price', data=df_aux_1, ax=ax[1]);\n",
    "\n",
    "ax[0].set_title('houses with no renovation')\n",
    "ax[1].set_title('houses renovated');"
   ]
  },
  {
   "cell_type": "markdown",
   "id": "1deb6c1b",
   "metadata": {},
   "source": [
    "#### 4.2.2 The more bathrooms, the higher the sale value of a house."
   ]
  },
  {
   "cell_type": "markdown",
   "id": "908471a1",
   "metadata": {},
   "source": [
    "**True**"
   ]
  },
  {
   "cell_type": "code",
   "execution_count": 62,
   "id": "41b30ce3",
   "metadata": {},
   "outputs": [
    {
     "data": {
      "image/png": "[encoded data removed]",
      "text/plain": [
       "<Figure size 1152x432 with 1 Axes>"
      ]
     },
     "metadata": {
      "needs_background": "light"
     },
     "output_type": "display_data"
    }
   ],
   "source": [
    "fig, ax = plt.subplots(figsize=(16,6))\n",
    "\n",
    "sns.boxplot(x='bathrooms', y='price', data=data, showfliers = False);"
   ]
  },
  {
   "cell_type": "markdown",
   "id": "028d0c87",
   "metadata": {},
   "source": [
    "#### 4.2.3 The more bedrooms, the higher the sale value of a house."
   ]
  },
  {
   "cell_type": "code",
   "execution_count": 63,
   "id": "703fe7ad",
   "metadata": {},
   "outputs": [
    {
     "data": {
      "image/png": "[encoded data removed]",
      "text/plain": [
       "<Figure size 1152x432 with 1 Axes>"
      ]
     },
     "metadata": {
      "needs_background": "light"
     },
     "output_type": "display_data"
    }
   ],
   "source": [
    "fig, ax = plt.subplots(figsize=(16,6))\n",
    "\n",
    "sns.boxplot(x='bedrooms', y='price', data=data, showfliers = False);"
   ]
  },
  {
   "cell_type": "markdown",
   "id": "3e449732",
   "metadata": {},
   "source": [
    "#### 4.2.4 Sale price is affected by the house location."
   ]
  },
  {
   "cell_type": "code",
   "execution_count": 80,
   "id": "b5c4327e",
   "metadata": {},
   "outputs": [
    {
     "data": {
      "application/vnd.plotly.v1+json": {
       "config": {
        "plotlyServerURL": "https://plot.ly"
       },
       "data": [
        {
         "branchvalues": "total",
         "customdata": [
          [
           281194.8698060942
          ],
          [
           234284.0351758794
          ],
          [
           294111.27857142856
          ],
          [
           1355927.0820189274
          ],
          [
           810164.875
          ],
          [
           859684.7791164658
          ],
          [
           617105.085106383
          ],
          [
           645507.3780918728
          ],
          [
           423665.99
          ],
          [
           490351.4666666667
          ],
          [
           455617.1129032258
          ],
          [
           424788.74736842106
          ],
          [
           316742.3905579399
          ],
          [
           286732.79158316634
          ],
          [
           586008.375
          ],
          [
           616990.5922330098
          ],
          [
           462480.035335689
          ],
          [
           612653.6105919003
          ],
          [
           296187.98046875
          ],
          [
           300340.40293040295
          ],
          [
           251296.24
          ],
          [
           803719.5231481482
          ],
          [
           521652.8587155963
          ],
          [
           367082.9949066214
          ],
          [
           2160606.6
          ],
          [
           1194230.0212765958
          ],
          [
           311580.33638025593
          ],
          [
           440195.94999999995
          ],
          [
           645231.456445993
          ],
          [
           677112.6277915633
          ],
          [
           304262.1082089552
          ],
          [
           420890.54926108377
          ],
          [
           353608.63516483514
          ],
          [
           493552.53205128206
          ],
          [
           529587.5746753247
          ],
          [
           489381.1623931624
          ],
          [
           569958.4652014652
          ],
          [
           685605.775510204
          ],
          [
           790576.6545961003
          ],
          [
           682774.8787878788
          ],
          [
           334921.0626780627
          ],
          [
           899395.3653846154
          ],
          [
           584827.5623960067
          ],
          [
           862825.2314410481
          ],
          [
           319581.3940298507
          ],
          [
           579053.4172932331
          ],
          [
           355678.51612903224
          ],
          [
           879623.623853211
          ],
          [
           1095499.342007435
          ],
          [
           619900.5471698113
          ],
          [
           618634.1696969697
          ],
          [
           576795.007233273
          ],
          [
           418011.47140039445
          ],
          [
           849448.0163043478
          ],
          [
           634360.1793103449
          ],
          [
           469899.42787286063
          ],
          [
           424706.3559322034
          ],
          [
           387011.59026369173
          ],
          [
           551688.6730038023
          ],
          [
           594547.6501457726
          ],
          [
           359483.2395833333
          ],
          [
           284908.5964912281
          ],
          [
           423725.69506726455
          ],
          [
           464231.8385826772
          ],
          [
           240328.3717472119
          ],
          [
           676185.3921568628
          ],
          [
           310612.75572519086
          ],
          [
           289078.3455882353
          ],
          [
           302878.8821428571
          ],
          [
           791820.807570978
          ],
          [
           721438.4833844141
          ]
         ],
         "domain": {
          "x": [
           0,
           1
          ],
          "y": [
           0,
           1
          ]
         },
         "hovertemplate": "labels=%{label}<br>price_sum=%{value}<br>parent=%{parent}<br>id=%{id}<br>price=%{color}<extra></extra>",
         "ids": [
          "Houses - Sales Price per Zip Code/98001",
          "Houses - Sales Price per Zip Code/98002",
          "Houses - Sales Price per Zip Code/98003",
          "Houses - Sales Price per Zip Code/98004",
          "Houses - Sales Price per Zip Code/98005",
          "Houses - Sales Price per Zip Code/98006",
          "Houses - Sales Price per Zip Code/98007",
          "Houses - Sales Price per Zip Code/98008",
          "Houses - Sales Price per Zip Code/98010",
          "Houses - Sales Price per Zip Code/98011",
          "Houses - Sales Price per Zip Code/98014",
          "Houses - Sales Price per Zip Code/98019",
          "Houses - Sales Price per Zip Code/98022",
          "Houses - Sales Price per Zip Code/98023",
          "Houses - Sales Price per Zip Code/98024",
          "Houses - Sales Price per Zip Code/98027",
          "Houses - Sales Price per Zip Code/98028",
          "Houses - Sales Price per Zip Code/98029",
          "Houses - Sales Price per Zip Code/98030",
          "Houses - Sales Price per Zip Code/98031",
          "Houses - Sales Price per Zip Code/98032",
          "Houses - Sales Price per Zip Code/98033",
          "Houses - Sales Price per Zip Code/98034",
          "Houses - Sales Price per Zip Code/98038",
          "Houses - Sales Price per Zip Code/98039",
          "Houses - Sales Price per Zip Code/98040",
          "Houses - Sales Price per Zip Code/98042",
          "Houses - Sales Price per Zip Code/98045",
          "Houses - Sales Price per Zip Code/98052",
          "Houses - Sales Price per Zip Code/98053",
          "Houses - Sales Price per Zip Code/98055",
          "Houses - Sales Price per Zip Code/98056",
          "Houses - Sales Price per Zip Code/98058",
          "Houses - Sales Price per Zip Code/98059",
          "Houses - Sales Price per Zip Code/98065",
          "Houses - Sales Price per Zip Code/98070",
          "Houses - Sales Price per Zip Code/98072",
          "Houses - Sales Price per Zip Code/98074",
          "Houses - Sales Price per Zip Code/98075",
          "Houses - Sales Price per Zip Code/98077",
          "Houses - Sales Price per Zip Code/98092",
          "Houses - Sales Price per Zip Code/98102",
          "Houses - Sales Price per Zip Code/98103",
          "Houses - Sales Price per Zip Code/98105",
          "Houses - Sales Price per Zip Code/98106",
          "Houses - Sales Price per Zip Code/98107",
          "Houses - Sales Price per Zip Code/98108",
          "Houses - Sales Price per Zip Code/98109",
          "Houses - Sales Price per Zip Code/98112",
          "Houses - Sales Price per Zip Code/98115",
          "Houses - Sales Price per Zip Code/98116",
          "Houses - Sales Price per Zip Code/98117",
          "Houses - Sales Price per Zip Code/98118",
          "Houses - Sales Price per Zip Code/98119",
          "Houses - Sales Price per Zip Code/98122",
          "Houses - Sales Price per Zip Code/98125",
          "Houses - Sales Price per Zip Code/98126",
          "Houses - Sales Price per Zip Code/98133",
          "Houses - Sales Price per Zip Code/98136",
          "Houses - Sales Price per Zip Code/98144",
          "Houses - Sales Price per Zip Code/98146",
          "Houses - Sales Price per Zip Code/98148",
          "Houses - Sales Price per Zip Code/98155",
          "Houses - Sales Price per Zip Code/98166",
          "Houses - Sales Price per Zip Code/98168",
          "Houses - Sales Price per Zip Code/98177",
          "Houses - Sales Price per Zip Code/98178",
          "Houses - Sales Price per Zip Code/98188",
          "Houses - Sales Price per Zip Code/98198",
          "Houses - Sales Price per Zip Code/98199",
          "Houses - Sales Price per Zip Code"
         ],
         "labels": [
          "98001",
          "98002",
          "98003",
          "98004",
          "98005",
          "98006",
          "98007",
          "98008",
          "98010",
          "98011",
          "98014",
          "98019",
          "98022",
          "98023",
          "98024",
          "98027",
          "98028",
          "98029",
          "98030",
          "98031",
          "98032",
          "98033",
          "98034",
          "98038",
          "98039",
          "98040",
          "98042",
          "98045",
          "98052",
          "98053",
          "98055",
          "98056",
          "98058",
          "98059",
          "98065",
          "98070",
          "98072",
          "98074",
          "98075",
          "98077",
          "98092",
          "98102",
          "98103",
          "98105",
          "98106",
          "98107",
          "98108",
          "98109",
          "98112",
          "98115",
          "98116",
          "98117",
          "98118",
          "98119",
          "98122",
          "98125",
          "98126",
          "98133",
          "98136",
          "98144",
          "98146",
          "98148",
          "98155",
          "98166",
          "98168",
          "98177",
          "98178",
          "98188",
          "98198",
          "98199",
          "Houses - Sales Price per Zip Code"
         ],
         "marker": {
          "coloraxis": "coloraxis",
          "colors": [
           281194.8698060942,
           234284.0351758794,
           294111.27857142856,
           1355927.0820189274,
           810164.875,
           859684.7791164658,
           617105.085106383,
           645507.3780918728,
           423665.99,
           490351.4666666667,
           455617.1129032258,
           424788.74736842106,
           316742.3905579399,
           286732.79158316634,
           586008.375,
           616990.5922330098,
           462480.035335689,
           612653.6105919003,
           296187.98046875,
           300340.40293040295,
           251296.24,
           803719.5231481482,
           521652.8587155963,
           367082.9949066214,
           2160606.6,
           1194230.0212765958,
           311580.33638025593,
           440195.94999999995,
           645231.456445993,
           677112.6277915633,
           304262.1082089552,
           420890.54926108377,
           353608.63516483514,
           493552.53205128206,
           529587.5746753247,
           489381.1623931624,
           569958.4652014652,
           685605.775510204,
           790576.6545961003,
           682774.8787878788,
           334921.0626780627,
           899395.3653846154,
           584827.5623960067,
           862825.2314410481,
           319581.3940298507,
           579053.4172932331,
           355678.51612903224,
           879623.623853211,
           1095499.342007435,
           619900.5471698113,
           618634.1696969697,
           576795.007233273,
           418011.47140039445,
           849448.0163043478,
           634360.1793103449,
           469899.42787286063,
           424706.3559322034,
           387011.59026369173,
           551688.6730038023,
           594547.6501457726,
           359483.2395833333,
           284908.5964912281,
           423725.69506726455,
           464231.8385826772,
           240328.3717472119,
           676185.3921568628,
           310612.75572519086,
           289078.3455882353,
           302878.8821428571,
           791820.807570978,
           721438.4833844141
          ]
         },
         "name": "",
         "parents": [
          "Houses - Sales Price per Zip Code",
          "Houses - Sales Price per Zip Code",
          "Houses - Sales Price per Zip Code",
          "Houses - Sales Price per Zip Code",
          "Houses - Sales Price per Zip Code",
          "Houses - Sales Price per Zip Code",
          "Houses - Sales Price per Zip Code",
          "Houses - Sales Price per Zip Code",
          "Houses - Sales Price per Zip Code",
          "Houses - Sales Price per Zip Code",
          "Houses - Sales Price per Zip Code",
          "Houses - Sales Price per Zip Code",
          "Houses - Sales Price per Zip Code",
          "Houses - Sales Price per Zip Code",
          "Houses - Sales Price per Zip Code",
          "Houses - Sales Price per Zip Code",
          "Houses - Sales Price per Zip Code",
          "Houses - Sales Price per Zip Code",
          "Houses - Sales Price per Zip Code",
          "Houses - Sales Price per Zip Code",
          "Houses - Sales Price per Zip Code",
          "Houses - Sales Price per Zip Code",
          "Houses - Sales Price per Zip Code",
          "Houses - Sales Price per Zip Code",
          "Houses - Sales Price per Zip Code",
          "Houses - Sales Price per Zip Code",
          "Houses - Sales Price per Zip Code",
          "Houses - Sales Price per Zip Code",
          "Houses - Sales Price per Zip Code",
          "Houses - Sales Price per Zip Code",
          "Houses - Sales Price per Zip Code",
          "Houses - Sales Price per Zip Code",
          "Houses - Sales Price per Zip Code",
          "Houses - Sales Price per Zip Code",
          "Houses - Sales Price per Zip Code",
          "Houses - Sales Price per Zip Code",
          "Houses - Sales Price per Zip Code",
          "Houses - Sales Price per Zip Code",
          "Houses - Sales Price per Zip Code",
          "Houses - Sales Price per Zip Code",
          "Houses - Sales Price per Zip Code",
          "Houses - Sales Price per Zip Code",
          "Houses - Sales Price per Zip Code",
          "Houses - Sales Price per Zip Code",
          "Houses - Sales Price per Zip Code",
          "Houses - Sales Price per Zip Code",
          "Houses - Sales Price per Zip Code",
          "Houses - Sales Price per Zip Code",
          "Houses - Sales Price per Zip Code",
          "Houses - Sales Price per Zip Code",
          "Houses - Sales Price per Zip Code",
          "Houses - Sales Price per Zip Code",
          "Houses - Sales Price per Zip Code",
          "Houses - Sales Price per Zip Code",
          "Houses - Sales Price per Zip Code",
          "Houses - Sales Price per Zip Code",
          "Houses - Sales Price per Zip Code",
          "Houses - Sales Price per Zip Code",
          "Houses - Sales Price per Zip Code",
          "Houses - Sales Price per Zip Code",
          "Houses - Sales Price per Zip Code",
          "Houses - Sales Price per Zip Code",
          "Houses - Sales Price per Zip Code",
          "Houses - Sales Price per Zip Code",
          "Houses - Sales Price per Zip Code",
          "Houses - Sales Price per Zip Code",
          "Houses - Sales Price per Zip Code",
          "Houses - Sales Price per Zip Code",
          "Houses - Sales Price per Zip Code",
          "Houses - Sales Price per Zip Code",
          ""
         ],
         "type": "treemap",
         "values": [
          281194.8698060942,
          234284.0351758794,
          294111.27857142856,
          1355927.0820189274,
          810164.875,
          859684.7791164658,
          617105.085106383,
          645507.3780918728,
          423665.99,
          490351.4666666667,
          455617.1129032258,
          424788.74736842106,
          316742.3905579399,
          286732.79158316634,
          586008.375,
          616990.5922330098,
          462480.035335689,
          612653.6105919003,
          296187.98046875,
          300340.40293040295,
          251296.24,
          803719.5231481482,
          521652.8587155963,
          367082.9949066214,
          2160606.6,
          1194230.0212765958,
          311580.33638025593,
          440195.95,
          645231.456445993,
          677112.6277915633,
          304262.1082089552,
          420890.54926108377,
          353608.63516483514,
          493552.53205128206,
          529587.5746753247,
          489381.1623931624,
          569958.4652014652,
          685605.775510204,
          790576.6545961003,
          682774.8787878788,
          334921.0626780627,
          899395.3653846154,
          584827.5623960067,
          862825.2314410481,
          319581.3940298507,
          579053.4172932331,
          355678.51612903224,
          879623.6238532111,
          1095499.342007435,
          619900.5471698113,
          618634.1696969697,
          576795.007233273,
          418011.47140039445,
          849448.0163043478,
          634360.1793103449,
          469899.42787286063,
          424706.3559322034,
          387011.5902636917,
          551688.6730038023,
          594547.6501457726,
          359483.2395833333,
          284908.5964912281,
          423725.69506726455,
          464231.8385826772,
          240328.3717472119,
          676185.3921568628,
          310612.75572519086,
          289078.3455882353,
          302878.8821428571,
          791820.807570978,
          39263108.35124309
         ]
        }
       ],
       "layout": {
        "coloraxis": {
         "cmid": 491951.9993589744,
         "colorbar": {
          "title": {
           "text": "price"
          }
         },
         "colorscale": [
          [
           0,
           "rgb(103,0,31)"
          ],
          [
           0.1,
           "rgb(178,24,43)"
          ],
          [
           0.2,
           "rgb(214,96,77)"
          ],
          [
           0.3,
           "rgb(244,165,130)"
          ],
          [
           0.4,
           "rgb(253,219,199)"
          ],
          [
           0.5,
           "rgb(247,247,247)"
          ],
          [
           0.6,
           "rgb(209,229,240)"
          ],
          [
           0.7,
           "rgb(146,197,222)"
          ],
          [
           0.8,
           "rgb(67,147,195)"
          ],
          [
           0.9,
           "rgb(33,102,172)"
          ],
          [
           1,
           "rgb(5,48,97)"
          ]
         ]
        },
        "legend": {
         "tracegroupgap": 0
        },
        "margin": {
         "b": 25,
         "l": 25,
         "r": 25,
         "t": 50
        },
        "template": {
         "data": {
          "bar": [
           {
            "error_x": {
             "color": "#2a3f5f"
            },
            "error_y": {
             "color": "#2a3f5f"
            },
            "marker": {
             "line": {
              "color": "#E5ECF6",
              "width": 0.5
             },
             "pattern": {
              "fillmode": "overlay",
              "size": 10,
              "solidity": 0.2
             }
            },
            "type": "bar"
           }
          ],
          "barpolar": [
           {
            "marker": {
             "line": {
              "color": "#E5ECF6",
              "width": 0.5
             },
             "pattern": {
              "fillmode": "overlay",
              "size": 10,
              "solidity": 0.2
             }
            },
            "type": "barpolar"
           }
          ],
          "carpet": [
           {
            "aaxis": {
             "endlinecolor": "#2a3f5f",
             "gridcolor": "white",
             "linecolor": "white",
             "minorgridcolor": "white",
             "startlinecolor": "#2a3f5f"
            },
            "baxis": {
             "endlinecolor": "#2a3f5f",
             "gridcolor": "white",
             "linecolor": "white",
             "minorgridcolor": "white",
             "startlinecolor": "#2a3f5f"
            },
            "type": "carpet"
           }
          ],
          "choropleth": [
           {
            "colorbar": {
             "outlinewidth": 0,
             "ticks": ""
            },
            "type": "choropleth"
           }
          ],
          "contour": [
           {
            "colorbar": {
             "outlinewidth": 0,
             "ticks": ""
            },
            "colorscale": [
             [
              0,
              "#0d0887"
             ],
             [
              0.1111111111111111,
              "#46039f"
             ],
             [
              0.2222222222222222,
              "#7201a8"
             ],
             [
              0.3333333333333333,
              "#9c179e"
             ],
             [
              0.4444444444444444,
              "#bd3786"
             ],
             [
              0.5555555555555556,
              "#d8576b"
             ],
             [
              0.6666666666666666,
              "#ed7953"
             ],
             [
              0.7777777777777778,
              "#fb9f3a"
             ],
             [
              0.8888888888888888,
              "#fdca26"
             ],
             [
              1,
              "#f0f921"
             ]
            ],
            "type": "contour"
           }
          ],
          "contourcarpet": [
           {
            "colorbar": {
             "outlinewidth": 0,
             "ticks": ""
            },
            "type": "contourcarpet"
           }
          ],
          "heatmap": [
           {
            "colorbar": {
             "outlinewidth": 0,
             "ticks": ""
            },
            "colorscale": [
             [
              0,
              "#0d0887"
             ],
             [
              0.1111111111111111,
              "#46039f"
             ],
             [
              0.2222222222222222,
              "#7201a8"
             ],
             [
              0.3333333333333333,
              "#9c179e"
             ],
             [
              0.4444444444444444,
              "#bd3786"
             ],
             [
              0.5555555555555556,
              "#d8576b"
             ],
             [
              0.6666666666666666,
              "#ed7953"
             ],
             [
              0.7777777777777778,
              "#fb9f3a"
             ],
             [
              0.8888888888888888,
              "#fdca26"
             ],
             [
              1,
              "#f0f921"
             ]
            ],
            "type": "heatmap"
           }
          ],
          "heatmapgl": [
           {
            "colorbar": {
             "outlinewidth": 0,
             "ticks": ""
            },
            "colorscale": [
             [
              0,
              "#0d0887"
             ],
             [
              0.1111111111111111,
              "#46039f"
             ],
             [
              0.2222222222222222,
              "#7201a8"
             ],
             [
              0.3333333333333333,
              "#9c179e"
             ],
             [
              0.4444444444444444,
              "#bd3786"
             ],
             [
              0.5555555555555556,
              "#d8576b"
             ],
             [
              0.6666666666666666,
              "#ed7953"
             ],
             [
              0.7777777777777778,
              "#fb9f3a"
             ],
             [
              0.8888888888888888,
              "#fdca26"
             ],
             [
              1,
              "#f0f921"
             ]
            ],
            "type": "heatmapgl"
           }
          ],
          "histogram": [
           {
            "marker": {
             "pattern": {
              "fillmode": "overlay",
              "size": 10,
              "solidity": 0.2
             }
            },
            "type": "histogram"
           }
          ],
          "histogram2d": [
           {
            "colorbar": {
             "outlinewidth": 0,
             "ticks": ""
            },
            "colorscale": [
             [
              0,
              "#0d0887"
             ],
             [
              0.1111111111111111,
              "#46039f"
             ],
             [
              0.2222222222222222,
              "#7201a8"
             ],
             [
              0.3333333333333333,
              "#9c179e"
             ],
             [
              0.4444444444444444,
              "#bd3786"
             ],
             [
              0.5555555555555556,
              "#d8576b"
             ],
             [
              0.6666666666666666,
              "#ed7953"
             ],
             [
              0.7777777777777778,
              "#fb9f3a"
             ],
             [
              0.8888888888888888,
              "#fdca26"
             ],
             [
              1,
              "#f0f921"
             ]
            ],
            "type": "histogram2d"
           }
          ],
          "histogram2dcontour": [
           {
            "colorbar": {
             "outlinewidth": 0,
             "ticks": ""
            },
            "colorscale": [
             [
              0,
              "#0d0887"
             ],
             [
              0.1111111111111111,
              "#46039f"
             ],
             [
              0.2222222222222222,
              "#7201a8"
             ],
             [
              0.3333333333333333,
              "#9c179e"
             ],
             [
              0.4444444444444444,
              "#bd3786"
             ],
             [
              0.5555555555555556,
              "#d8576b"
             ],
             [
              0.6666666666666666,
              "#ed7953"
             ],
             [
              0.7777777777777778,
              "#fb9f3a"
             ],
             [
              0.8888888888888888,
              "#fdca26"
             ],
             [
              1,
              "#f0f921"
             ]
            ],
            "type": "histogram2dcontour"
           }
          ],
          "mesh3d": [
           {
            "colorbar": {
             "outlinewidth": 0,
             "ticks": ""
            },
            "type": "mesh3d"
           }
          ],
          "parcoords": [
           {
            "line": {
             "colorbar": {
              "outlinewidth": 0,
              "ticks": ""
             }
            },
            "type": "parcoords"
           }
          ],
          "pie": [
           {
            "automargin": true,
            "type": "pie"
           }
          ],
          "scatter": [
           {
            "marker": {
             "colorbar": {
              "outlinewidth": 0,
              "ticks": ""
             }
            },
            "type": "scatter"
           }
          ],
          "scatter3d": [
           {
            "line": {
             "colorbar": {
              "outlinewidth": 0,
              "ticks": ""
             }
            },
            "marker": {
             "colorbar": {
              "outlinewidth": 0,
              "ticks": ""
             }
            },
            "type": "scatter3d"
           }
          ],
          "scattercarpet": [
           {
            "marker": {
             "colorbar": {
              "outlinewidth": 0,
              "ticks": ""
             }
            },
            "type": "scattercarpet"
           }
          ],
          "scattergeo": [
           {
            "marker": {
             "colorbar": {
              "outlinewidth": 0,
              "ticks": ""
             }
            },
            "type": "scattergeo"
           }
          ],
          "scattergl": [
           {
            "marker": {
             "colorbar": {
              "outlinewidth": 0,
              "ticks": ""
             }
            },
            "type": "scattergl"
           }
          ],
          "scattermapbox": [
           {
            "marker": {
             "colorbar": {
              "outlinewidth": 0,
              "ticks": ""
             }
            },
            "type": "scattermapbox"
           }
          ],
          "scatterpolar": [
           {
            "marker": {
             "colorbar": {
              "outlinewidth": 0,
              "ticks": ""
             }
            },
            "type": "scatterpolar"
           }
          ],
          "scatterpolargl": [
           {
            "marker": {
             "colorbar": {
              "outlinewidth": 0,
              "ticks": ""
             }
            },
            "type": "scatterpolargl"
           }
          ],
          "scatterternary": [
           {
            "marker": {
             "colorbar": {
              "outlinewidth": 0,
              "ticks": ""
             }
            },
            "type": "scatterternary"
           }
          ],
          "surface": [
           {
            "colorbar": {
             "outlinewidth": 0,
             "ticks": ""
            },
            "colorscale": [
             [
              0,
              "#0d0887"
             ],
             [
              0.1111111111111111,
              "#46039f"
             ],
             [
              0.2222222222222222,
              "#7201a8"
             ],
             [
              0.3333333333333333,
              "#9c179e"
             ],
             [
              0.4444444444444444,
              "#bd3786"
             ],
             [
              0.5555555555555556,
              "#d8576b"
             ],
             [
              0.6666666666666666,
              "#ed7953"
             ],
             [
              0.7777777777777778,
              "#fb9f3a"
             ],
             [
              0.8888888888888888,
              "#fdca26"
             ],
             [
              1,
              "#f0f921"
             ]
            ],
            "type": "surface"
           }
          ],
          "table": [
           {
            "cells": {
             "fill": {
              "color": "#EBF0F8"
             },
             "line": {
              "color": "white"
             }
            },
            "header": {
             "fill": {
              "color": "#C8D4E3"
             },
             "line": {
              "color": "white"
             }
            },
            "type": "table"
           }
          ]
         },
         "layout": {
          "annotationdefaults": {
           "arrowcolor": "#2a3f5f",
           "arrowhead": 0,
           "arrowwidth": 1
          },
          "autotypenumbers": "strict",
          "coloraxis": {
           "colorbar": {
            "outlinewidth": 0,
            "ticks": ""
           }
          },
          "colorscale": {
           "diverging": [
            [
             0,
             "#8e0152"
            ],
            [
             0.1,
             "#c51b7d"
            ],
            [
             0.2,
             "#de77ae"
            ],
            [
             0.3,
             "#f1b6da"
            ],
            [
             0.4,
             "#fde0ef"
            ],
            [
             0.5,
             "#f7f7f7"
            ],
            [
             0.6,
             "#e6f5d0"
            ],
            [
             0.7,
             "#b8e186"
            ],
            [
             0.8,
             "#7fbc41"
            ],
            [
             0.9,
             "#4d9221"
            ],
            [
             1,
             "#276419"
            ]
           ],
           "sequential": [
            [
             0,
             "#0d0887"
            ],
            [
             0.1111111111111111,
             "#46039f"
            ],
            [
             0.2222222222222222,
             "#7201a8"
            ],
            [
             0.3333333333333333,
             "#9c179e"
            ],
            [
             0.4444444444444444,
             "#bd3786"
            ],
            [
             0.5555555555555556,
             "#d8576b"
            ],
            [
             0.6666666666666666,
             "#ed7953"
            ],
            [
             0.7777777777777778,
             "#fb9f3a"
            ],
            [
             0.8888888888888888,
             "#fdca26"
            ],
            [
             1,
             "#f0f921"
            ]
           ],
           "sequentialminus": [
            [
             0,
             "#0d0887"
            ],
            [
             0.1111111111111111,
             "#46039f"
            ],
            [
             0.2222222222222222,
             "#7201a8"
            ],
            [
             0.3333333333333333,
             "#9c179e"
            ],
            [
             0.4444444444444444,
             "#bd3786"
            ],
            [
             0.5555555555555556,
             "#d8576b"
            ],
            [
             0.6666666666666666,
             "#ed7953"
            ],
            [
             0.7777777777777778,
             "#fb9f3a"
            ],
            [
             0.8888888888888888,
             "#fdca26"
            ],
            [
             1,
             "#f0f921"
            ]
           ]
          },
          "colorway": [
           "#636efa",
           "#EF553B",
           "#00cc96",
           "#ab63fa",
           "#FFA15A",
           "#19d3f3",
           "#FF6692",
           "#B6E880",
           "#FF97FF",
           "#FECB52"
          ],
          "font": {
           "color": "#2a3f5f"
          },
          "geo": {
           "bgcolor": "white",
           "lakecolor": "white",
           "landcolor": "#E5ECF6",
           "showlakes": true,
           "showland": true,
           "subunitcolor": "white"
          },
          "hoverlabel": {
           "align": "left"
          },
          "hovermode": "closest",
          "mapbox": {
           "style": "light"
          },
          "paper_bgcolor": "white",
          "plot_bgcolor": "#E5ECF6",
          "polar": {
           "angularaxis": {
            "gridcolor": "white",
            "linecolor": "white",
            "ticks": ""
           },
           "bgcolor": "#E5ECF6",
           "radialaxis": {
            "gridcolor": "white",
            "linecolor": "white",
            "ticks": ""
           }
          },
          "scene": {
           "xaxis": {
            "backgroundcolor": "#E5ECF6",
            "gridcolor": "white",
            "gridwidth": 2,
            "linecolor": "white",
            "showbackground": true,
            "ticks": "",
            "zerolinecolor": "white"
           },
           "yaxis": {
            "backgroundcolor": "#E5ECF6",
            "gridcolor": "white",
            "gridwidth": 2,
            "linecolor": "white",
            "showbackground": true,
            "ticks": "",
            "zerolinecolor": "white"
           },
           "zaxis": {
            "backgroundcolor": "#E5ECF6",
            "gridcolor": "white",
            "gridwidth": 2,
            "linecolor": "white",
            "showbackground": true,
            "ticks": "",
            "zerolinecolor": "white"
           }
          },
          "shapedefaults": {
           "line": {
            "color": "#2a3f5f"
           }
          },
          "ternary": {
           "aaxis": {
            "gridcolor": "white",
            "linecolor": "white",
            "ticks": ""
           },
           "baxis": {
            "gridcolor": "white",
            "linecolor": "white",
            "ticks": ""
           },
           "bgcolor": "#E5ECF6",
           "caxis": {
            "gridcolor": "white",
            "linecolor": "white",
            "ticks": ""
           }
          },
          "title": {
           "x": 0.05
          },
          "xaxis": {
           "automargin": true,
           "gridcolor": "white",
           "linecolor": "white",
           "ticks": "",
           "title": {
            "standoff": 15
           },
           "zerolinecolor": "white",
           "zerolinewidth": 2
          },
          "yaxis": {
           "automargin": true,
           "gridcolor": "white",
           "linecolor": "white",
           "ticks": "",
           "title": {
            "standoff": 15
           },
           "zerolinecolor": "white",
           "zerolinewidth": 2
          }
         }
        }
       }
      },
      "text/html": [
       "<div>                            <div id=\"bcf8d296-ae4c-4c15-ab21-72914514aef5\" class=\"plotly-graph-div\" style=\"height:525px; width:100%;\"></div>            <script type=\"text/javascript\">                require([\"plotly\"], function(Plotly) {                    window.PLOTLYENV=window.PLOTLYENV || {};                                    if (document.getElementById(\"bcf8d296-ae4c-4c15-ab21-72914514aef5\")) {                    Plotly.newPlot(                        \"bcf8d296-ae4c-4c15-ab21-72914514aef5\",                        [{\"branchvalues\":\"total\",\"customdata\":[[281194.8698060942],[234284.0351758794],[294111.27857142856],[1355927.0820189274],[810164.875],[859684.7791164658],[617105.085106383],[645507.3780918728],[423665.99],[490351.4666666667],[455617.1129032258],[424788.74736842106],[316742.3905579399],[286732.79158316634],[586008.375],[616990.5922330098],[462480.035335689],[612653.6105919003],[296187.98046875],[300340.40293040295],[251296.24],[803719.5231481482],[521652.8587155963],[367082.9949066214],[2160606.6],[1194230.0212765958],[311580.33638025593],[440195.94999999995],[645231.456445993],[677112.6277915633],[304262.1082089552],[420890.54926108377],[353608.63516483514],[493552.53205128206],[529587.5746753247],[489381.1623931624],[569958.4652014652],[685605.775510204],[790576.6545961003],[682774.8787878788],[334921.0626780627],[899395.3653846154],[584827.5623960067],[862825.2314410481],[319581.3940298507],[579053.4172932331],[355678.51612903224],[879623.623853211],[1095499.342007435],[619900.5471698113],[618634.1696969697],[576795.007233273],[418011.47140039445],[849448.0163043478],[634360.1793103449],[469899.42787286063],[424706.3559322034],[387011.59026369173],[551688.6730038023],[594547.6501457726],[359483.2395833333],[284908.5964912281],[423725.69506726455],[464231.8385826772],[240328.3717472119],[676185.3921568628],[310612.75572519086],[289078.3455882353],[302878.8821428571],[791820.807570978],[721438.4833844141]],\"domain\":{\"x\":[0.0,1.0],\"y\":[0.0,1.0]},\"hovertemplate\":\"labels=%{label}<br>price_sum=%{value}<br>parent=%{parent}<br>id=%{id}<br>price=%{color}<extra></extra>\",\"ids\":[\"Houses - Sales Price per Zip Code/98001\",\"Houses - Sales Price per Zip Code/98002\",\"Houses - Sales Price per Zip Code/98003\",\"Houses - Sales Price per Zip Code/98004\",\"Houses - Sales Price per Zip Code/98005\",\"Houses - Sales Price per Zip Code/98006\",\"Houses - Sales Price per Zip Code/98007\",\"Houses - Sales Price per Zip Code/98008\",\"Houses - Sales Price per Zip Code/98010\",\"Houses - Sales Price per Zip Code/98011\",\"Houses - Sales Price per Zip Code/98014\",\"Houses - Sales Price per Zip Code/98019\",\"Houses - Sales Price per Zip Code/98022\",\"Houses - Sales Price per Zip Code/98023\",\"Houses - Sales Price per Zip Code/98024\",\"Houses - Sales Price per Zip Code/98027\",\"Houses - Sales Price per Zip Code/98028\",\"Houses - Sales Price per Zip Code/98029\",\"Houses - Sales Price per Zip Code/98030\",\"Houses - Sales Price per Zip Code/98031\",\"Houses - Sales Price per Zip Code/98032\",\"Houses - Sales Price per Zip Code/98033\",\"Houses - Sales Price per Zip Code/98034\",\"Houses - Sales Price per Zip Code/98038\",\"Houses - Sales Price per Zip Code/98039\",\"Houses - Sales Price per Zip Code/98040\",\"Houses - Sales Price per Zip Code/98042\",\"Houses - Sales Price per Zip Code/98045\",\"Houses - Sales Price per Zip Code/98052\",\"Houses - Sales Price per Zip Code/98053\",\"Houses - Sales Price per Zip Code/98055\",\"Houses - Sales Price per Zip Code/98056\",\"Houses - Sales Price per Zip Code/98058\",\"Houses - Sales Price per Zip Code/98059\",\"Houses - Sales Price per Zip Code/98065\",\"Houses - Sales Price per Zip Code/98070\",\"Houses - Sales Price per Zip Code/98072\",\"Houses - Sales Price per Zip Code/98074\",\"Houses - Sales Price per Zip Code/98075\",\"Houses - Sales Price per Zip Code/98077\",\"Houses - Sales Price per Zip Code/98092\",\"Houses - Sales Price per Zip Code/98102\",\"Houses - Sales Price per Zip Code/98103\",\"Houses - Sales Price per Zip Code/98105\",\"Houses - Sales Price per Zip Code/98106\",\"Houses - Sales Price per Zip Code/98107\",\"Houses - Sales Price per Zip Code/98108\",\"Houses - Sales Price per Zip Code/98109\",\"Houses - Sales Price per Zip Code/98112\",\"Houses - Sales Price per Zip Code/98115\",\"Houses - Sales Price per Zip Code/98116\",\"Houses - Sales Price per Zip Code/98117\",\"Houses - Sales Price per Zip Code/98118\",\"Houses - Sales Price per Zip Code/98119\",\"Houses - Sales Price per Zip Code/98122\",\"Houses - Sales Price per Zip Code/98125\",\"Houses - Sales Price per Zip Code/98126\",\"Houses - Sales Price per Zip Code/98133\",\"Houses - Sales Price per Zip Code/98136\",\"Houses - Sales Price per Zip Code/98144\",\"Houses - Sales Price per Zip Code/98146\",\"Houses - Sales Price per Zip Code/98148\",\"Houses - Sales Price per Zip Code/98155\",\"Houses - Sales Price per Zip Code/98166\",\"Houses - Sales Price per Zip Code/98168\",\"Houses - Sales Price per Zip Code/98177\",\"Houses - Sales Price per Zip Code/98178\",\"Houses - Sales Price per Zip Code/98188\",\"Houses - Sales Price per Zip Code/98198\",\"Houses - Sales Price per Zip Code/98199\",\"Houses - Sales Price per Zip Code\"],\"labels\":[\"98001\",\"98002\",\"98003\",\"98004\",\"98005\",\"98006\",\"98007\",\"98008\",\"98010\",\"98011\",\"98014\",\"98019\",\"98022\",\"98023\",\"98024\",\"98027\",\"98028\",\"98029\",\"98030\",\"98031\",\"98032\",\"98033\",\"98034\",\"98038\",\"98039\",\"98040\",\"98042\",\"98045\",\"98052\",\"98053\",\"98055\",\"98056\",\"98058\",\"98059\",\"98065\",\"98070\",\"98072\",\"98074\",\"98075\",\"98077\",\"98092\",\"98102\",\"98103\",\"98105\",\"98106\",\"98107\",\"98108\",\"98109\",\"98112\",\"98115\",\"98116\",\"98117\",\"98118\",\"98119\",\"98122\",\"98125\",\"98126\",\"98133\",\"98136\",\"98144\",\"98146\",\"98148\",\"98155\",\"98166\",\"98168\",\"98177\",\"98178\",\"98188\",\"98198\",\"98199\",\"Houses - Sales Price per Zip Code\"],\"marker\":{\"coloraxis\":\"coloraxis\",\"colors\":[281194.8698060942,234284.0351758794,294111.27857142856,1355927.0820189274,810164.875,859684.7791164658,617105.085106383,645507.3780918728,423665.99,490351.4666666667,455617.1129032258,424788.74736842106,316742.3905579399,286732.79158316634,586008.375,616990.5922330098,462480.035335689,612653.6105919003,296187.98046875,300340.40293040295,251296.24,803719.5231481482,521652.8587155963,367082.9949066214,2160606.6,1194230.0212765958,311580.33638025593,440195.94999999995,645231.456445993,677112.6277915633,304262.1082089552,420890.54926108377,353608.63516483514,493552.53205128206,529587.5746753247,489381.1623931624,569958.4652014652,685605.775510204,790576.6545961003,682774.8787878788,334921.0626780627,899395.3653846154,584827.5623960067,862825.2314410481,319581.3940298507,579053.4172932331,355678.51612903224,879623.623853211,1095499.342007435,619900.5471698113,618634.1696969697,576795.007233273,418011.47140039445,849448.0163043478,634360.1793103449,469899.42787286063,424706.3559322034,387011.59026369173,551688.6730038023,594547.6501457726,359483.2395833333,284908.5964912281,423725.69506726455,464231.8385826772,240328.3717472119,676185.3921568628,310612.75572519086,289078.3455882353,302878.8821428571,791820.807570978,721438.4833844141]},\"name\":\"\",\"parents\":[\"Houses - Sales Price per Zip Code\",\"Houses - Sales Price per Zip Code\",\"Houses - Sales Price per Zip Code\",\"Houses - Sales Price per Zip Code\",\"Houses - Sales Price per Zip Code\",\"Houses - Sales Price per Zip Code\",\"Houses - Sales Price per Zip Code\",\"Houses - Sales Price per Zip Code\",\"Houses - Sales Price per Zip Code\",\"Houses - Sales Price per Zip Code\",\"Houses - Sales Price per Zip Code\",\"Houses - Sales Price per Zip Code\",\"Houses - Sales Price per Zip Code\",\"Houses - Sales Price per Zip Code\",\"Houses - Sales Price per Zip Code\",\"Houses - Sales Price per Zip Code\",\"Houses - Sales Price per Zip Code\",\"Houses - Sales Price per Zip Code\",\"Houses - Sales Price per Zip Code\",\"Houses - Sales Price per Zip Code\",\"Houses - Sales Price per Zip Code\",\"Houses - Sales Price per Zip Code\",\"Houses - Sales Price per Zip Code\",\"Houses - Sales Price per Zip Code\",\"Houses - Sales Price per Zip Code\",\"Houses - Sales Price per Zip Code\",\"Houses - Sales Price per Zip Code\",\"Houses - Sales Price per Zip Code\",\"Houses - Sales Price per Zip Code\",\"Houses - Sales Price per Zip Code\",\"Houses - Sales Price per Zip Code\",\"Houses - Sales Price per Zip Code\",\"Houses - Sales Price per Zip Code\",\"Houses - Sales Price per Zip Code\",\"Houses - Sales Price per Zip Code\",\"Houses - Sales Price per Zip Code\",\"Houses - Sales Price per Zip Code\",\"Houses - Sales Price per Zip Code\",\"Houses - Sales Price per Zip Code\",\"Houses - Sales Price per Zip Code\",\"Houses - Sales Price per Zip Code\",\"Houses - Sales Price per Zip Code\",\"Houses - Sales Price per Zip Code\",\"Houses - Sales Price per Zip Code\",\"Houses - Sales Price per Zip Code\",\"Houses - Sales Price per Zip Code\",\"Houses - Sales Price per Zip Code\",\"Houses - Sales Price per Zip Code\",\"Houses - Sales Price per Zip Code\",\"Houses - Sales Price per Zip Code\",\"Houses - Sales Price per Zip Code\",\"Houses - Sales Price per Zip Code\",\"Houses - Sales Price per Zip Code\",\"Houses - Sales Price per Zip Code\",\"Houses - Sales Price per Zip Code\",\"Houses - Sales Price per Zip Code\",\"Houses - Sales Price per Zip Code\",\"Houses - Sales Price per Zip Code\",\"Houses - Sales Price per Zip Code\",\"Houses - Sales Price per Zip Code\",\"Houses - Sales Price per Zip Code\",\"Houses - Sales Price per Zip Code\",\"Houses - Sales Price per Zip Code\",\"Houses - Sales Price per Zip Code\",\"Houses - Sales Price per Zip Code\",\"Houses - Sales Price per Zip Code\",\"Houses - Sales Price per Zip Code\",\"Houses - Sales Price per Zip Code\",\"Houses - Sales Price per Zip Code\",\"Houses - Sales Price per Zip Code\",\"\"],\"values\":[281194.8698060942,234284.0351758794,294111.27857142856,1355927.0820189274,810164.875,859684.7791164658,617105.085106383,645507.3780918728,423665.99,490351.4666666667,455617.1129032258,424788.74736842106,316742.3905579399,286732.79158316634,586008.375,616990.5922330098,462480.035335689,612653.6105919003,296187.98046875,300340.40293040295,251296.24,803719.5231481482,521652.8587155963,367082.9949066214,2160606.6,1194230.0212765958,311580.33638025593,440195.95,645231.456445993,677112.6277915633,304262.1082089552,420890.54926108377,353608.63516483514,493552.53205128206,529587.5746753247,489381.1623931624,569958.4652014652,685605.775510204,790576.6545961003,682774.8787878788,334921.0626780627,899395.3653846154,584827.5623960067,862825.2314410481,319581.3940298507,579053.4172932331,355678.51612903224,879623.6238532111,1095499.342007435,619900.5471698113,618634.1696969697,576795.007233273,418011.47140039445,849448.0163043478,634360.1793103449,469899.42787286063,424706.3559322034,387011.5902636917,551688.6730038023,594547.6501457726,359483.2395833333,284908.5964912281,423725.69506726455,464231.8385826772,240328.3717472119,676185.3921568628,310612.75572519086,289078.3455882353,302878.8821428571,791820.807570978,39263108.35124309],\"type\":\"treemap\"}],                        {\"template\":{\"data\":{\"bar\":[{\"error_x\":{\"color\":\"#2a3f5f\"},\"error_y\":{\"color\":\"#2a3f5f\"},\"marker\":{\"line\":{\"color\":\"#E5ECF6\",\"width\":0.5},\"pattern\":{\"fillmode\":\"overlay\",\"size\":10,\"solidity\":0.2}},\"type\":\"bar\"}],\"barpolar\":[{\"marker\":{\"line\":{\"color\":\"#E5ECF6\",\"width\":0.5},\"pattern\":{\"fillmode\":\"overlay\",\"size\":10,\"solidity\":0.2}},\"type\":\"barpolar\"}],\"carpet\":[{\"aaxis\":{\"endlinecolor\":\"#2a3f5f\",\"gridcolor\":\"white\",\"linecolor\":\"white\",\"minorgridcolor\":\"white\",\"startlinecolor\":\"#2a3f5f\"},\"baxis\":{\"endlinecolor\":\"#2a3f5f\",\"gridcolor\":\"white\",\"linecolor\":\"white\",\"minorgridcolor\":\"white\",\"startlinecolor\":\"#2a3f5f\"},\"type\":\"carpet\"}],\"choropleth\":[{\"colorbar\":{\"outlinewidth\":0,\"ticks\":\"\"},\"type\":\"choropleth\"}],\"contour\":[{\"colorbar\":{\"outlinewidth\":0,\"ticks\":\"\"},\"colorscale\":[[0.0,\"#0d0887\"],[0.1111111111111111,\"#46039f\"],[0.2222222222222222,\"#7201a8\"],[0.3333333333333333,\"#9c179e\"],[0.4444444444444444,\"#bd3786\"],[0.5555555555555556,\"#d8576b\"],[0.6666666666666666,\"#ed7953\"],[0.7777777777777778,\"#fb9f3a\"],[0.8888888888888888,\"#fdca26\"],[1.0,\"#f0f921\"]],\"type\":\"contour\"}],\"contourcarpet\":[{\"colorbar\":{\"outlinewidth\":0,\"ticks\":\"\"},\"type\":\"contourcarpet\"}],\"heatmap\":[{\"colorbar\":{\"outlinewidth\":0,\"ticks\":\"\"},\"colorscale\":[[0.0,\"#0d0887\"],[0.1111111111111111,\"#46039f\"],[0.2222222222222222,\"#7201a8\"],[0.3333333333333333,\"#9c179e\"],[0.4444444444444444,\"#bd3786\"],[0.5555555555555556,\"#d8576b\"],[0.6666666666666666,\"#ed7953\"],[0.7777777777777778,\"#fb9f3a\"],[0.8888888888888888,\"#fdca26\"],[1.0,\"#f0f921\"]],\"type\":\"heatmap\"}],\"heatmapgl\":[{\"colorbar\":{\"outlinewidth\":0,\"ticks\":\"\"},\"colorscale\":[[0.0,\"#0d0887\"],[0.1111111111111111,\"#46039f\"],[0.2222222222222222,\"#7201a8\"],[0.3333333333333333,\"#9c179e\"],[0.4444444444444444,\"#bd3786\"],[0.5555555555555556,\"#d8576b\"],[0.6666666666666666,\"#ed7953\"],[0.7777777777777778,\"#fb9f3a\"],[0.8888888888888888,\"#fdca26\"],[1.0,\"#f0f921\"]],\"type\":\"heatmapgl\"}],\"histogram\":[{\"marker\":{\"pattern\":{\"fillmode\":\"overlay\",\"size\":10,\"solidity\":0.2}},\"type\":\"histogram\"}],\"histogram2d\":[{\"colorbar\":{\"outlinewidth\":0,\"ticks\":\"\"},\"colorscale\":[[0.0,\"#0d0887\"],[0.1111111111111111,\"#46039f\"],[0.2222222222222222,\"#7201a8\"],[0.3333333333333333,\"#9c179e\"],[0.4444444444444444,\"#bd3786\"],[0.5555555555555556,\"#d8576b\"],[0.6666666666666666,\"#ed7953\"],[0.7777777777777778,\"#fb9f3a\"],[0.8888888888888888,\"#fdca26\"],[1.0,\"#f0f921\"]],\"type\":\"histogram2d\"}],\"histogram2dcontour\":[{\"colorbar\":{\"outlinewidth\":0,\"ticks\":\"\"},\"colorscale\":[[0.0,\"#0d0887\"],[0.1111111111111111,\"#46039f\"],[0.2222222222222222,\"#7201a8\"],[0.3333333333333333,\"#9c179e\"],[0.4444444444444444,\"#bd3786\"],[0.5555555555555556,\"#d8576b\"],[0.6666666666666666,\"#ed7953\"],[0.7777777777777778,\"#fb9f3a\"],[0.8888888888888888,\"#fdca26\"],[1.0,\"#f0f921\"]],\"type\":\"histogram2dcontour\"}],\"mesh3d\":[{\"colorbar\":{\"outlinewidth\":0,\"ticks\":\"\"},\"type\":\"mesh3d\"}],\"parcoords\":[{\"line\":{\"colorbar\":{\"outlinewidth\":0,\"ticks\":\"\"}},\"type\":\"parcoords\"}],\"pie\":[{\"automargin\":true,\"type\":\"pie\"}],\"scatter\":[{\"marker\":{\"colorbar\":{\"outlinewidth\":0,\"ticks\":\"\"}},\"type\":\"scatter\"}],\"scatter3d\":[{\"line\":{\"colorbar\":{\"outlinewidth\":0,\"ticks\":\"\"}},\"marker\":{\"colorbar\":{\"outlinewidth\":0,\"ticks\":\"\"}},\"type\":\"scatter3d\"}],\"scattercarpet\":[{\"marker\":{\"colorbar\":{\"outlinewidth\":0,\"ticks\":\"\"}},\"type\":\"scattercarpet\"}],\"scattergeo\":[{\"marker\":{\"colorbar\":{\"outlinewidth\":0,\"ticks\":\"\"}},\"type\":\"scattergeo\"}],\"scattergl\":[{\"marker\":{\"colorbar\":{\"outlinewidth\":0,\"ticks\":\"\"}},\"type\":\"scattergl\"}],\"scattermapbox\":[{\"marker\":{\"colorbar\":{\"outlinewidth\":0,\"ticks\":\"\"}},\"type\":\"scattermapbox\"}],\"scatterpolar\":[{\"marker\":{\"colorbar\":{\"outlinewidth\":0,\"ticks\":\"\"}},\"type\":\"scatterpolar\"}],\"scatterpolargl\":[{\"marker\":{\"colorbar\":{\"outlinewidth\":0,\"ticks\":\"\"}},\"type\":\"scatterpolargl\"}],\"scatterternary\":[{\"marker\":{\"colorbar\":{\"outlinewidth\":0,\"ticks\":\"\"}},\"type\":\"scatterternary\"}],\"surface\":[{\"colorbar\":{\"outlinewidth\":0,\"ticks\":\"\"},\"colorscale\":[[0.0,\"#0d0887\"],[0.1111111111111111,\"#46039f\"],[0.2222222222222222,\"#7201a8\"],[0.3333333333333333,\"#9c179e\"],[0.4444444444444444,\"#bd3786\"],[0.5555555555555556,\"#d8576b\"],[0.6666666666666666,\"#ed7953\"],[0.7777777777777778,\"#fb9f3a\"],[0.8888888888888888,\"#fdca26\"],[1.0,\"#f0f921\"]],\"type\":\"surface\"}],\"table\":[{\"cells\":{\"fill\":{\"color\":\"#EBF0F8\"},\"line\":{\"color\":\"white\"}},\"header\":{\"fill\":{\"color\":\"#C8D4E3\"},\"line\":{\"color\":\"white\"}},\"type\":\"table\"}]},\"layout\":{\"annotationdefaults\":{\"arrowcolor\":\"#2a3f5f\",\"arrowhead\":0,\"arrowwidth\":1},\"autotypenumbers\":\"strict\",\"coloraxis\":{\"colorbar\":{\"outlinewidth\":0,\"ticks\":\"\"}},\"colorscale\":{\"diverging\":[[0,\"#8e0152\"],[0.1,\"#c51b7d\"],[0.2,\"#de77ae\"],[0.3,\"#f1b6da\"],[0.4,\"#fde0ef\"],[0.5,\"#f7f7f7\"],[0.6,\"#e6f5d0\"],[0.7,\"#b8e186\"],[0.8,\"#7fbc41\"],[0.9,\"#4d9221\"],[1,\"#276419\"]],\"sequential\":[[0.0,\"#0d0887\"],[0.1111111111111111,\"#46039f\"],[0.2222222222222222,\"#7201a8\"],[0.3333333333333333,\"#9c179e\"],[0.4444444444444444,\"#bd3786\"],[0.5555555555555556,\"#d8576b\"],[0.6666666666666666,\"#ed7953\"],[0.7777777777777778,\"#fb9f3a\"],[0.8888888888888888,\"#fdca26\"],[1.0,\"#f0f921\"]],\"sequentialminus\":[[0.0,\"#0d0887\"],[0.1111111111111111,\"#46039f\"],[0.2222222222222222,\"#7201a8\"],[0.3333333333333333,\"#9c179e\"],[0.4444444444444444,\"#bd3786\"],[0.5555555555555556,\"#d8576b\"],[0.6666666666666666,\"#ed7953\"],[0.7777777777777778,\"#fb9f3a\"],[0.8888888888888888,\"#fdca26\"],[1.0,\"#f0f921\"]]},\"colorway\":[\"#636efa\",\"#EF553B\",\"#00cc96\",\"#ab63fa\",\"#FFA15A\",\"#19d3f3\",\"#FF6692\",\"#B6E880\",\"#FF97FF\",\"#FECB52\"],\"font\":{\"color\":\"#2a3f5f\"},\"geo\":{\"bgcolor\":\"white\",\"lakecolor\":\"white\",\"landcolor\":\"#E5ECF6\",\"showlakes\":true,\"showland\":true,\"subunitcolor\":\"white\"},\"hoverlabel\":{\"align\":\"left\"},\"hovermode\":\"closest\",\"mapbox\":{\"style\":\"light\"},\"paper_bgcolor\":\"white\",\"plot_bgcolor\":\"#E5ECF6\",\"polar\":{\"angularaxis\":{\"gridcolor\":\"white\",\"linecolor\":\"white\",\"ticks\":\"\"},\"bgcolor\":\"#E5ECF6\",\"radialaxis\":{\"gridcolor\":\"white\",\"linecolor\":\"white\",\"ticks\":\"\"}},\"scene\":{\"xaxis\":{\"backgroundcolor\":\"#E5ECF6\",\"gridcolor\":\"white\",\"gridwidth\":2,\"linecolor\":\"white\",\"showbackground\":true,\"ticks\":\"\",\"zerolinecolor\":\"white\"},\"yaxis\":{\"backgroundcolor\":\"#E5ECF6\",\"gridcolor\":\"white\",\"gridwidth\":2,\"linecolor\":\"white\",\"showbackground\":true,\"ticks\":\"\",\"zerolinecolor\":\"white\"},\"zaxis\":{\"backgroundcolor\":\"#E5ECF6\",\"gridcolor\":\"white\",\"gridwidth\":2,\"linecolor\":\"white\",\"showbackground\":true,\"ticks\":\"\",\"zerolinecolor\":\"white\"}},\"shapedefaults\":{\"line\":{\"color\":\"#2a3f5f\"}},\"ternary\":{\"aaxis\":{\"gridcolor\":\"white\",\"linecolor\":\"white\",\"ticks\":\"\"},\"baxis\":{\"gridcolor\":\"white\",\"linecolor\":\"white\",\"ticks\":\"\"},\"bgcolor\":\"#E5ECF6\",\"caxis\":{\"gridcolor\":\"white\",\"linecolor\":\"white\",\"ticks\":\"\"}},\"title\":{\"x\":0.05},\"xaxis\":{\"automargin\":true,\"gridcolor\":\"white\",\"linecolor\":\"white\",\"ticks\":\"\",\"title\":{\"standoff\":15},\"zerolinecolor\":\"white\",\"zerolinewidth\":2},\"yaxis\":{\"automargin\":true,\"gridcolor\":\"white\",\"linecolor\":\"white\",\"ticks\":\"\",\"title\":{\"standoff\":15},\"zerolinecolor\":\"white\",\"zerolinewidth\":2}}},\"coloraxis\":{\"colorbar\":{\"title\":{\"text\":\"price\"}},\"colorscale\":[[0.0,\"rgb(103,0,31)\"],[0.1,\"rgb(178,24,43)\"],[0.2,\"rgb(214,96,77)\"],[0.3,\"rgb(244,165,130)\"],[0.4,\"rgb(253,219,199)\"],[0.5,\"rgb(247,247,247)\"],[0.6,\"rgb(209,229,240)\"],[0.7,\"rgb(146,197,222)\"],[0.8,\"rgb(67,147,195)\"],[0.9,\"rgb(33,102,172)\"],[1.0,\"rgb(5,48,97)\"]],\"cmid\":491951.9993589744},\"legend\":{\"tracegroupgap\":0},\"margin\":{\"t\":50,\"l\":25,\"r\":25,\"b\":25}},                        {\"responsive\": true}                    ).then(function(){\n",
       "                            \n",
       "var gd = document.getElementById('bcf8d296-ae4c-4c15-ab21-72914514aef5');\n",
       "var x = new MutationObserver(function (mutations, observer) {{\n",
       "        var display = window.getComputedStyle(gd).display;\n",
       "        if (!display || display === 'none') {{\n",
       "            console.log([gd, 'removed!']);\n",
       "            Plotly.purge(gd);\n",
       "            observer.disconnect();\n",
       "        }}\n",
       "}});\n",
       "\n",
       "// Listen for the removal of the full notebook cells\n",
       "var notebookContainer = gd.closest('#notebook-container');\n",
       "if (notebookContainer) {{\n",
       "    x.observe(notebookContainer, {childList: true});\n",
       "}}\n",
       "\n",
       "// Listen for the clearing of the current output cell\n",
       "var outputEl = gd.closest('.output');\n",
       "if (outputEl) {{\n",
       "    x.observe(outputEl, {childList: true});\n",
       "}}\n",
       "\n",
       "                        })                };                });            </script>        </div>"
      ]
     },
     "metadata": {},
     "output_type": "display_data"
    }
   ],
   "source": [
    "import numpy as np\n",
    "import plotly.express as px\n",
    "\n",
    "df_aux = data[['zipcode', 'price']].groupby('zipcode').mean().reset_index()\n",
    "\n",
    "fig = px.treemap(df_aux,\n",
    "                 path=[px.Constant(\"Houses - Sales Price per Zip Code\"), 'zipcode'],\n",
    "                 values='price',\n",
    "                 color='price',\n",
    "                 color_continuous_scale='RdBu',\n",
    "                 color_continuous_midpoint=np.median(df_aux['price']))\n",
    "\n",
    "fig.update_layout(margin = dict(t=50, l=25, r=25, b=25))\n",
    "fig.show()"
   ]
  },
  {
   "cell_type": "markdown",
   "id": "2e985ba2",
   "metadata": {},
   "source": [
    "#### 4.2.5 The larger the land, the higher the sale price."
   ]
  },
  {
   "cell_type": "code",
   "execution_count": 82,
   "id": "0d482d3e",
   "metadata": {},
   "outputs": [
    {
     "data": {
      "image/png": "[encoded data removed]",
      "text/plain": [
       "<Figure size 1152x432 with 1 Axes>"
      ]
     },
     "metadata": {
      "needs_background": "light"
     },
     "output_type": "display_data"
    }
   ],
   "source": [
    "fig, ax = plt.subplots(figsize=(16,6))\n",
    "sns.scatterplot(x='sqft_lot', y='price', data=data);"
   ]
  },
  {
   "cell_type": "markdown",
   "id": "e7c89e31",
   "metadata": {},
   "source": [
    "#### 4.2.6 The larger the area of the house, the higher the sale price."
   ]
  },
  {
   "cell_type": "code",
   "execution_count": 83,
   "id": "80e3401c",
   "metadata": {},
   "outputs": [
    {
     "data": {
      "image/png": "[encoded data removed]",
      "text/plain": [
       "<Figure size 1152x432 with 1 Axes>"
      ]
     },
     "metadata": {
      "needs_background": "light"
     },
     "output_type": "display_data"
    }
   ],
   "source": [
    "fig, ax = plt.subplots(figsize=(16,6))\n",
    "sns.scatterplot(x='sqft_living', y='price', data=data);"
   ]
  },
  {
   "cell_type": "markdown",
   "id": "1da48d93",
   "metadata": {},
   "source": [
    "#### 4.2.7 Houses overlooking the sea come at a higher price."
   ]
  },
  {
   "cell_type": "code",
   "execution_count": 97,
   "id": "e2ea0d25",
   "metadata": {},
   "outputs": [
    {
     "data": {
      "image/png": "[encoded data removed]",
      "text/plain": [
       "<Figure size 1152x432 with 1 Axes>"
      ]
     },
     "metadata": {
      "needs_background": "light"
     },
     "output_type": "display_data"
    }
   ],
   "source": [
    "fig, ax = plt.subplots(figsize=(16,6))\n",
    "\n",
    "#data['is_renovated'] = data['yr_renovated'].apply(lambda yr_renovated: True if yr_renovated != 0 else False)\n",
    "df_aux = data[['waterfront', 'price']].groupby('waterfront').mean().reset_index()\n",
    "\n",
    "sns.barplot(x='waterfront', y='price', data=df_aux);"
   ]
  },
  {
   "cell_type": "markdown",
   "id": "5a8fe31e",
   "metadata": {},
   "source": [
    "#### 4.2.8 The more floors, the higher the sale price."
   ]
  },
  {
   "cell_type": "code",
   "execution_count": 84,
   "id": "d3a6e099",
   "metadata": {},
   "outputs": [
    {
     "data": {
      "image/png": "[encoded data removed]",
      "text/plain": [
       "<Figure size 1152x432 with 1 Axes>"
      ]
     },
     "metadata": {
      "needs_background": "light"
     },
     "output_type": "display_data"
    }
   ],
   "source": [
    "fig, ax = plt.subplots(figsize=(16,6))\n",
    "sns.boxplot(x='floors', y='price', data=data, showfliers = False);"
   ]
  },
  {
   "cell_type": "markdown",
   "id": "00e90134",
   "metadata": {},
   "source": [
    "#### 4.2.9 The better the condition of the house, the higher the sale price."
   ]
  },
  {
   "cell_type": "code",
   "execution_count": 85,
   "id": "233f1776",
   "metadata": {},
   "outputs": [
    {
     "data": {
      "image/png": "[encoded data removed]",
      "text/plain": [
       "<Figure size 1152x432 with 1 Axes>"
      ]
     },
     "metadata": {
      "needs_background": "light"
     },
     "output_type": "display_data"
    }
   ],
   "source": [
    "fig, ax = plt.subplots(figsize=(16,6))\n",
    "sns.boxplot(x='condition', y='price', data=data, showfliers = False);"
   ]
  },
  {
   "cell_type": "markdown",
   "id": "bb654617",
   "metadata": {},
   "source": [
    "#### 4.2.10 The better the view of the property, the higher the sale price."
   ]
  },
  {
   "cell_type": "code",
   "execution_count": 86,
   "id": "cc9611db",
   "metadata": {},
   "outputs": [
    {
     "data": {
      "image/png": "[encoded data removed]",
      "text/plain": [
       "<Figure size 1152x432 with 1 Axes>"
      ]
     },
     "metadata": {
      "needs_background": "light"
     },
     "output_type": "display_data"
    }
   ],
   "source": [
    "fig, ax = plt.subplots(figsize=(16,6))\n",
    "sns.boxplot(x='view', y='price', data=data, showfliers = False);"
   ]
  },
  {
   "cell_type": "markdown",
   "id": "e28cd703",
   "metadata": {},
   "source": [
    "#### 4.2.11 The better the construction and design, the higher the selling price."
   ]
  },
  {
   "cell_type": "code",
   "execution_count": 87,
   "id": "dfcf00fa",
   "metadata": {},
   "outputs": [
    {
     "data": {
      "image/png": "[encoded data removed]",
      "text/plain": [
       "<Figure size 1152x432 with 1 Axes>"
      ]
     },
     "metadata": {
      "needs_background": "light"
     },
     "output_type": "display_data"
    }
   ],
   "source": [
    "fig, ax = plt.subplots(figsize=(16,6))\n",
    "sns.boxplot(x='grade', y='price', data=data, showfliers = False);"
   ]
  },
  {
   "cell_type": "markdown",
   "id": "c900d375",
   "metadata": {},
   "source": [
    "#### 4.2.12 Houses that have been renovated have a higher sale price."
   ]
  },
  {
   "cell_type": "code",
   "execution_count": 96,
   "id": "adbb30be",
   "metadata": {},
   "outputs": [
    {
     "data": {
      "image/png": "[encoded data removed]",
      "text/plain": [
       "<Figure size 1152x432 with 1 Axes>"
      ]
     },
     "metadata": {
      "needs_background": "light"
     },
     "output_type": "display_data"
    }
   ],
   "source": [
    "fig, ax = plt.subplots(figsize=(16,6))\n",
    "\n",
    "data['is_renovated'] = data['yr_renovated'].apply(lambda yr_renovated: True if yr_renovated != 0 else False)\n",
    "df_aux = data[['is_renovated', 'price']].groupby('is_renovated').mean().reset_index()\n",
    "\n",
    "sns.barplot(x='is_renovated', y='price', data=df_aux);"
   ]
  },
  {
   "cell_type": "markdown",
   "id": "94b8f9cc",
   "metadata": {},
   "source": [
    "#### 4.2.13 Houses with greater area on floors above ground level are more expensive."
   ]
  },
  {
   "cell_type": "code",
   "execution_count": 88,
   "id": "46c55968",
   "metadata": {},
   "outputs": [
    {
     "data": {
      "image/png": "[encoded data removed]",
      "text/plain": [
       "<Figure size 1152x432 with 1 Axes>"
      ]
     },
     "metadata": {
      "needs_background": "light"
     },
     "output_type": "display_data"
    }
   ],
   "source": [
    "fig, ax = plt.subplots(figsize=(16,6))\n",
    "sns.scatterplot(x='sqft_above', y='price', data=data);"
   ]
  },
  {
   "cell_type": "markdown",
   "id": "0ca73142",
   "metadata": {},
   "source": [
    "#### 4.2.14 Houses with greater area on floors below ground level are more expensive."
   ]
  },
  {
   "cell_type": "code",
   "execution_count": 89,
   "id": "c9518a58",
   "metadata": {},
   "outputs": [
    {
     "data": {
      "image/png": "[encoded data removed]",
      "text/plain": [
       "<Figure size 1152x432 with 1 Axes>"
      ]
     },
     "metadata": {
      "needs_background": "light"
     },
     "output_type": "display_data"
    }
   ],
   "source": [
    "fig, ax = plt.subplots(figsize=(16,6))\n",
    "sns.scatterplot(x='sqft_basement', y='price', data=data);"
   ]
  },
  {
   "cell_type": "markdown",
   "id": "f74624a8",
   "metadata": {},
   "source": [
    "#### 4.2.15 People tend to buy less houses in the end and beginning of the year"
   ]
  },
  {
   "cell_type": "code",
   "execution_count": 134,
   "id": "7bce983e",
   "metadata": {},
   "outputs": [
    {
     "data": {
      "image/png": "[encoded data removed]",
      "text/plain": [
       "<Figure size 1152x360 with 2 Axes>"
      ]
     },
     "metadata": {
      "needs_background": "light"
     },
     "output_type": "display_data"
    }
   ],
   "source": [
    "fig, ax = plt.subplots(1,2,figsize=(16,5))\n",
    "\n",
    "data['month_sold'] = data['date'].dt.month\n",
    "df_aux_count = data[['month_sold', 'id']].groupby(['month_sold']).count().reset_index()\n",
    "\n",
    "sns.barplot(data=df_aux_count, x='month_sold', y='id', ax=ax[0])\n",
    "sns.lineplot(data=data, x='month_sold', y='price', ax=ax[1])\n",
    "\n",
    "ax[0].set_title('# of houses sold by month')\n",
    "ax[1].set_title('avg. price of houses sold by month (with min and max price)');"
   ]
  },
  {
   "cell_type": "markdown",
   "id": "450745e4",
   "metadata": {},
   "source": [
    "## Dashboard Development"
   ]
  },
  {
   "cell_type": "markdown",
   "id": "18c5ef66",
   "metadata": {},
   "source": [
    "* Writing the dashboard I want to publish on Heroku"
   ]
  },
  {
   "cell_type": "code",
   "execution_count": null,
   "id": "1a0c6595",
   "metadata": {},
   "outputs": [],
   "source": [
    "%%writefile dashboard.py\n",
    "import folium\n",
    "import geopandas\n",
    "import numpy as np\n",
    "import pandas as pd\n",
    "import streamlit as st\n",
    "import plotly.express as px\n",
    "from datetime import datetime\n",
    "from folium.plugins import MarkerCluster\n",
    "from streamlit_folium import folium_static\n",
    "\n",
    "st.set_page_config(layout='wide')\n",
    "\n",
    "@st.cache(allow_output_mutation=True)\n",
    "def get_data(path):\n",
    "    data = pd.read_csv(path)\n",
    "    return data\n",
    "\n",
    "@st.cache(allow_output_mutation=True)\n",
    "def get_geofile( url ):\n",
    "    geofile = geopandas.read_file( url )\n",
    "    return geofile\n",
    "\n",
    "def generate_filtered_dataset(data, col, f_zipcode, f_attributes):\n",
    "    f_attributes = list(set(f_attributes + ['zipcode', col]))\n",
    "\n",
    "    if f_attributes != [] and f_zipcode != []:\n",
    "        df_metrics = data.loc[data['zipcode'].isin(f_zipcode), f_attributes].copy()\n",
    "    elif f_attributes == [] and f_zipcode != []:\n",
    "        df_metrics = data.loc[data['zipcode'].isin(f_zipcode), :].copy()\n",
    "    elif f_attributes != [] and f_zipcode == []:\n",
    "        df_metrics = data.loc[:, f_attributes].copy()\n",
    "    else:\n",
    "        df_metrics = data.copy()\n",
    "    \n",
    "    if df_metrics[col].dtype in ['byte', 'int8', 'int32', 'int64']:\n",
    "        df_metrics[[col, 'zipcode']].groupby('zipcode').count().reset_index()\n",
    "        \n",
    "    return df_metrics[[col, 'zipcode']].groupby('zipcode').mean().reset_index()\n",
    "\n",
    "path = '../data/kc_house_data.csv'\n",
    "data = get_data(path)\n",
    "\n",
    "#url = 'https://opendata.arcgis.com/datasets/83fc2e72903343aabff6de8cb445b81c_2.geojson'\n",
    "url = 'Zip_Codes.geojson'\n",
    "geofile = get_geofile( url )\n",
    "\n",
    "data['price_m2'] = data['price']/(data['sqft_lot']/10.764)\n",
    "data['date'] = pd.to_datetime(data['date'])\n",
    "data['yr_built'] = data['yr_built'].astype(int)\n",
    "\n",
    "st.sidebar.image(\"https://cdn4.iconfinder.com/data/icons/02-real-estate-outline-colors/91/RealEstate-64-512.png\", use_column_width=True)\n",
    "\n",
    "st.sidebar.title('Table filters')\n",
    "\n",
    "f_attributes = st.sidebar.multiselect('Enter columns', data.columns)\n",
    "f_zipcode = st.sidebar.multiselect('Enter zipcode(s)', np.sort(data['zipcode'].unique()))\n",
    "\n",
    "if f_attributes != [] and f_zipcode != []:\n",
    "    df = data.loc[data['zipcode'].isin(f_zipcode), f_attributes].copy()\n",
    "elif f_attributes == [] and f_zipcode != []:\n",
    "    df = data.loc[data['zipcode'].isin(f_zipcode), :].copy()\n",
    "elif f_attributes != [] and f_zipcode == []:\n",
    "    df = data.loc[:, f_attributes].copy()\n",
    "else:\n",
    "    df = data.copy()\n",
    "\n",
    "st.title('House sales price - Data analysis')\n",
    "\n",
    "st.header('Data Sample (showing only a sample of 20 houses)')\n",
    "st.dataframe(df.head(20))\n",
    "    \n",
    "c1, c2 = st.columns((1, 1)) \n",
    "    \n",
    "df1 = generate_filtered_dataset(data, 'id', f_zipcode, f_attributes)\n",
    "df2 = generate_filtered_dataset(data, 'price', f_zipcode, f_attributes)\n",
    "df3 = generate_filtered_dataset(data, 'sqft_living', f_zipcode, f_attributes)\n",
    "df4 = generate_filtered_dataset(data, 'price_m2', f_zipcode, f_attributes)\n",
    "\n",
    "m1 = pd.merge(df1, df2, on='zipcode', how='inner')\n",
    "m2 = pd.merge(m1,  df3, on='zipcode', how='inner')\n",
    "m3 = pd.merge(m2,  df4, on='zipcode', how='inner')\n",
    "\n",
    "m3.columns = ['ZIP code', 'Total houses', 'price', 'SQRT living','Price/m\\u00b2']\n",
    "\n",
    "c1.header('Average per zipcode')\n",
    "c1.dataframe(m3.head(8), height=600)\n",
    "\n",
    "c2.header('Descriptive statistics')\n",
    "c2.dataframe( df.describe(), height=800 )\n",
    "\n",
    "\n",
    "st.title('Region overview')\n",
    "\n",
    "c1, c2 = st.columns(( 1, 1 ))\n",
    "c1.header( 'Portfolio density' )\n",
    "\n",
    "#df = data.sample(10)\n",
    " \n",
    "density_map = folium.Map( location=[data['lat'].mean(), \n",
    "                          data['long'].mean() ],\n",
    "                          default_zoom_start=15 ) \n",
    "\n",
    "marker_cluster = MarkerCluster().add_to( density_map )\n",
    "for name, row in df.iterrows():\n",
    "    folium.Marker( [row['lat'], row['long'] ], \n",
    "        popup='Sold R${0} on: {1}. Features: {2} sqft, {3} bedrooms, {4} bathrooms, year built: {5}'.format( row['price'],\n",
    "                                     row['date'],\n",
    "                                     row['sqft_living'],\n",
    "                                     row['bedrooms'],\n",
    "                                     row['bathrooms'],\n",
    "                                     row['yr_built'] ) ).add_to( marker_cluster )\n",
    "with c1:\n",
    "    folium_static( density_map )\n",
    "\n",
    "    \n",
    "c2.header('Price density')\n",
    "\n",
    "df = data[['price', 'zipcode']].groupby( 'zipcode' ).mean().reset_index()\n",
    "df.columns = ['ZIP', 'PRICE']\n",
    "\n",
    "\n",
    "geofile = geofile[geofile['ZIP'].isin( df['ZIP'].tolist() )]\n",
    "\n",
    "region_price_map = folium.Map( location=[data['lat'].mean(), \n",
    "                               data['long'].mean() ],\n",
    "                               default_zoom_start=15 ) \n",
    "\n",
    "region_price_map.choropleth( data = df,\n",
    "                             geo_data = geofile,\n",
    "                             columns=['ZIP', 'PRICE'],\n",
    "                             key_on='feature.properties.ZIP',\n",
    "                             fill_color='YlOrRd',\n",
    "                             fill_opacity = 0.7,\n",
    "                             line_opacity = 0.2,\n",
    "                             legend_name='AVG PRICE' )\n",
    "with c2:\n",
    "    folium_static(region_price_map)\n",
    "    \n",
    "st.sidebar.title('Commercial options')\n",
    "st.title('Commercial attributes')\n",
    "\n",
    "min_year_built = int(data['yr_built'].min())\n",
    "max_year_built = int(data['yr_built'].max())+1\n",
    "mean_year_built = int(data['yr_built'].mean())\n",
    "\n",
    "st.sidebar.subheader('Select Max Year Built')\n",
    "f_yr_built = st.sidebar.slider('Year Built', min_year_built, max_year_built, mean_year_built)\n",
    "\n",
    "st.header('Average Price Per Year Built')\n",
    "df = data[data['yr_built']<f_yr_built]\n",
    "df = df[['price', 'yr_built']].groupby('yr_built').mean().reset_index()\n",
    "\n",
    "df = data[['price', 'yr_built']].groupby( 'yr_built' ).mean().reset_index()\n",
    "fig = px.line(df, x='yr_built', y='price')\n",
    "\n",
    "st.plotly_chart(fig, use_container_width=True)\n",
    "\n",
    "min_date =  datetime.strptime(datetime.strftime(data['date'].min(), '%Y-%m-%d'), '%Y-%m-%d')\n",
    "max_date =  datetime.strptime(datetime.strftime(data['date'].max(), '%Y-%m-%d'), '%Y-%m-%d')\n",
    "mode_date = datetime.strptime(datetime.strftime(data['date'].mode()[0], '%Y-%m-%d'), '%Y-%m-%d')\n",
    "\n",
    "st.sidebar.subheader('Select max date')\n",
    "print(min_date, type(min_date))\n",
    "f_date = st.sidebar.slider('Date', min_date, max_date, mode_date)\n",
    "\n",
    "st.header('Average price per date')\n",
    "df = data[data['date']<f_date]\n",
    "df = df[['price', 'date']].groupby('date').mean().reset_index()\n",
    "\n",
    "fig = px.line(df, x='date', y='price')\n",
    "\n",
    "st.plotly_chart(fig, use_container_width=True)\n",
    "\n",
    "st.header('Price Distribution')\n",
    "st.sidebar.subheader('Select Max Price')\n",
    "\n",
    "min_price = int(data['price'].min())\n",
    "max_price = int(data['price'].max())+1\n",
    "mean_price = int(data['price'].mean())\n",
    "\n",
    "f_price=st.sidebar.slider('Price', min_price, max_price, mean_price)\n",
    "\n",
    "df = data[data['price']<f_price]\n",
    "fig = px.histogram(df, x='price', nbins=50)\n",
    "\n",
    "st.plotly_chart(fig, use_container_width=True)\n",
    "\n",
    "st.title('House attributes')\n",
    "c1, c2 = st.columns((1, 1))\n",
    "\n",
    "st.sidebar.title('House attributes options')\n",
    "\n",
    "f_bedrooms=st.sidebar.selectbox('Maximum number of bedrooms', np.sort(data['bedrooms'].unique()), index=4)\n",
    "df = data[data['bedrooms']<=f_bedrooms]\n",
    "c1.header('# of houses given a maximum of bedrooms')\n",
    "fig = px.histogram(df, x='bedrooms', nbins=19)\n",
    "c1.plotly_chart(fig, use_container_width=True)\n",
    "\n",
    "f_bathrooms=st.sidebar.selectbox('Maximum number of bathrooms', np.sort(data['bathrooms'].unique()), index=2)\n",
    "df = data[data['bathrooms']<=f_bathrooms]\n",
    "c1.header('# of houses given a maximum of bathrooms')\n",
    "fig = px.histogram(data, x='bathrooms', nbins=19)\n",
    "c1.plotly_chart(fig, use_container_width=True)\n",
    "\n",
    "f_floors=st.sidebar.selectbox('Maximum number of floors', np.sort(data['floors'].unique()), index=2)\n",
    "df = data[data['floors']<=f_floors]\n",
    "c2.header('# of houses given a maximum of floors')\n",
    "fig = px.histogram(data, x='floors', nbins=19)\n",
    "c2.plotly_chart(fig, use_container_width=True)\n",
    "\n",
    "f_waterfront=st.sidebar.selectbox('Maximum number of waterfront', np.sort(data['waterfront'].unique()), index=0)\n",
    "df = data[data['waterfront']<=f_waterfront]\n",
    "c2.header('# of houses given a maximum of waterfront')\n",
    "fig = px.histogram(data, x='waterfront', nbins=19)\n",
    "c2.plotly_chart(fig, use_container_width=True)"
   ]
  }
 ],
 "metadata": {
  "kernelspec": {
   "display_name": "Python 3 (ipykernel)",
   "language": "python",
   "name": "python3"
  },
  "language_info": {
   "codemirror_mode": {
    "name": "ipython",
    "version": 3
   },
   "file_extension": ".py",
   "mimetype": "text/x-python",
   "name": "python",
   "nbconvert_exporter": "python",
   "pygments_lexer": "ipython3",
   "version": "3.10.1"
  }
 },
 "nbformat": 4,
 "nbformat_minor": 5
}
