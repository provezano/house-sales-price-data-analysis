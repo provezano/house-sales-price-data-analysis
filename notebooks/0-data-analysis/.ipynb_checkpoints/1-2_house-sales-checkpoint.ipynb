{
 "cells": [
  {
   "cell_type": "markdown",
   "id": "d23add95",
   "metadata": {},
   "source": [
    "# House Sales in King County - USA"
   ]
  },
  {
   "cell_type": "markdown",
   "id": "26e44021",
   "metadata": {},
   "source": [
    "Suppose a company named House Rocket negotiate properties (buy and sell properties). How can we help House Rocket CEO maximize its revenue?"
   ]
  },
  {
   "cell_type": "markdown",
   "id": "fa7a5ba0",
   "metadata": {},
   "source": [
    "## Business Model"
   ]
  },
  {
   "cell_type": "markdown",
   "id": "e78a32cd",
   "metadata": {},
   "source": [
    "House Rocket tries to find good deals in buying houses to resell it in a higher price."
   ]
  },
  {
   "cell_type": "markdown",
   "id": "a1490b9c",
   "metadata": {},
   "source": [
    "## Business Questions & Requests - Part 1"
   ]
  },
  {
   "cell_type": "markdown",
   "id": "c828beba",
   "metadata": {},
   "source": [
    "Also, the House Rocket's CEO has some questions and requests and he wants you to get done."
   ]
  },
  {
   "cell_type": "markdown",
   "id": "52b0f0e1",
   "metadata": {},
   "source": [
    "1. How many houses are available for sale?\n",
    "2. How many attributes we have for each house? (Their features like, number of rooms, number of garages, etc)\n",
    "3. What are the attributes?\n",
    "4. What is the most expensive house?\n",
    "5. What is the house with the most bedrooms?\n",
    "6. What is the average and median of rooms for each house?\n",
    "7. How many houses have 2 bathrooms?\n",
    "8. What is the average price of the houses?\n",
    "9. What is the average price of 2-bathroom homes?\n",
    "10. What is the lowest price for 3-bedroom homes?\n",
    "11. How many houses have more than 300 square meters for the living room?\n",
    "12. How many houses have more than 2 floors?\n",
    "13. How many houses are seaside?\n",
    "14. how many seaside houses have 3 bedrooms?\n",
    "15. How many houses with more than 300 square meters for the living room have more than 2 bathrooms?"
   ]
  },
  {
   "cell_type": "markdown",
   "id": "ee50a05a",
   "metadata": {},
   "source": [
    "## Solution Planning"
   ]
  },
  {
   "cell_type": "markdown",
   "id": "f5950737",
   "metadata": {},
   "source": [
    "### Deliverables"
   ]
  },
  {
   "cell_type": "markdown",
   "id": "91f88b6a",
   "metadata": {},
   "source": [
    "1. What will I deliver?<br>\n",
    "A: Answers in text format in a e-mail, for example."
   ]
  },
  {
   "cell_type": "markdown",
   "id": "68779d6c",
   "metadata": {},
   "source": [
    "### Solving Process Planning"
   ]
  },
  {
   "cell_type": "markdown",
   "id": "67d0016a",
   "metadata": {},
   "source": [
    "1. Collect the data\n",
    "    - How: Download from https://www.kaggle.com/harlfoxem/housesalesprediction.\n",
    "2. Answer the questions\n",
    "    - 1: Count the number of rows.\n",
    "    - 2: Count the number of columns.\n",
    "    - 3: List column names.\n",
    "    - 4: Order rows by price in descending order and get the first row.\n",
    "    - 5: Order rows by the number of rooms in descending order and get the first row.\n",
    "    - and so on..."
   ]
  },
  {
   "cell_type": "markdown",
   "id": "abba7099",
   "metadata": {},
   "source": [
    "### Tools"
   ]
  },
  {
   "cell_type": "markdown",
   "id": "6c53fb9e",
   "metadata": {},
   "source": [
    "1. What tools will I use?<br>\n",
    "A: Jupyter Notebook and Python."
   ]
  },
  {
   "cell_type": "markdown",
   "id": "d1ccf5d4",
   "metadata": {},
   "source": [
    "### Solution"
   ]
  },
  {
   "cell_type": "markdown",
   "id": "96dabe77",
   "metadata": {},
   "source": [
    "#### Libraries"
   ]
  },
  {
   "cell_type": "code",
   "execution_count": 1,
   "id": "a6e04fb6",
   "metadata": {
    "ExecuteTime": {
     "end_time": "2021-10-20T10:36:34.677830Z",
     "start_time": "2021-10-20T10:36:34.337515Z"
    }
   },
   "outputs": [],
   "source": [
    "import pandas as pd"
   ]
  },
  {
   "cell_type": "markdown",
   "id": "02de4b98",
   "metadata": {},
   "source": [
    "#### Load the dataset"
   ]
  },
  {
   "cell_type": "code",
   "execution_count": 3,
   "id": "b2540702",
   "metadata": {
    "ExecuteTime": {
     "end_time": "2021-10-20T10:36:34.725508Z",
     "start_time": "2021-10-20T10:36:34.678832Z"
    }
   },
   "outputs": [],
   "source": [
    "df = pd.read_csv('kc_house_data.csv')"
   ]
  },
  {
   "cell_type": "markdown",
   "id": "fe165fb4",
   "metadata": {},
   "source": [
    "#### 1. How many houses are available for sale?"
   ]
  },
  {
   "cell_type": "code",
   "execution_count": 4,
   "id": "6d14a477",
   "metadata": {
    "ExecuteTime": {
     "end_time": "2021-10-20T10:36:34.741307Z",
     "start_time": "2021-10-20T10:36:34.726307Z"
    }
   },
   "outputs": [
    {
     "data": {
      "text/plain": [
       "21613"
      ]
     },
     "execution_count": 4,
     "metadata": {},
     "output_type": "execute_result"
    }
   ],
   "source": [
    "df.shape[0]"
   ]
  },
  {
   "cell_type": "markdown",
   "id": "c36d9509",
   "metadata": {},
   "source": [
    "#### 2. How many attributes we have for each house? (Their features like, number of rooms, number of garages, etc)"
   ]
  },
  {
   "cell_type": "code",
   "execution_count": 5,
   "id": "e3fa7d97",
   "metadata": {
    "ExecuteTime": {
     "end_time": "2021-10-20T10:36:34.757307Z",
     "start_time": "2021-10-20T10:36:34.743313Z"
    }
   },
   "outputs": [
    {
     "data": {
      "text/plain": [
       "21"
      ]
     },
     "execution_count": 5,
     "metadata": {},
     "output_type": "execute_result"
    }
   ],
   "source": [
    "df.shape[1]"
   ]
  },
  {
   "cell_type": "markdown",
   "id": "2bb5ebee",
   "metadata": {},
   "source": [
    "#### 3. What are the attributes?"
   ]
  },
  {
   "cell_type": "code",
   "execution_count": 6,
   "id": "7bb6e028",
   "metadata": {
    "ExecuteTime": {
     "end_time": "2021-10-20T10:36:34.773306Z",
     "start_time": "2021-10-20T10:36:34.758307Z"
    }
   },
   "outputs": [
    {
     "data": {
      "text/plain": [
       "Index(['id', 'date', 'price', 'bedrooms', 'bathrooms', 'sqft_living',\n",
       "       'sqft_lot', 'floors', 'waterfront', 'view', 'condition', 'grade',\n",
       "       'sqft_above', 'sqft_basement', 'yr_built', 'yr_renovated', 'zipcode',\n",
       "       'lat', 'long', 'sqft_living15', 'sqft_lot15'],\n",
       "      dtype='object')"
      ]
     },
     "execution_count": 6,
     "metadata": {},
     "output_type": "execute_result"
    }
   ],
   "source": [
    "df.columns"
   ]
  },
  {
   "cell_type": "markdown",
   "id": "4fcc33ba",
   "metadata": {},
   "source": [
    "#### 4. What is the most expensive house?"
   ]
  },
  {
   "cell_type": "code",
   "execution_count": 7,
   "id": "de0d8b8c",
   "metadata": {
    "ExecuteTime": {
     "end_time": "2021-10-20T10:36:34.789325Z",
     "start_time": "2021-10-20T10:36:34.774308Z"
    }
   },
   "outputs": [
    {
     "data": {
      "text/plain": [
       "id       6762700020\n",
       "price     7700000.0\n",
       "Name: 7252, dtype: object"
      ]
     },
     "execution_count": 7,
     "metadata": {},
     "output_type": "execute_result"
    }
   ],
   "source": [
    "df.sort_values(by='price', ascending=False).iloc[0][['id', 'price']]"
   ]
  },
  {
   "cell_type": "markdown",
   "id": "49f8798e",
   "metadata": {},
   "source": [
    "#### 5. What is the house with the most bedrooms?"
   ]
  },
  {
   "cell_type": "code",
   "execution_count": 8,
   "id": "bf2786fb",
   "metadata": {
    "ExecuteTime": {
     "end_time": "2021-10-20T10:36:34.805312Z",
     "start_time": "2021-10-20T10:36:34.790308Z"
    }
   },
   "outputs": [
    {
     "data": {
      "text/plain": [
       "id          2402100895\n",
       "bedrooms            33\n",
       "Name: 15870, dtype: object"
      ]
     },
     "execution_count": 8,
     "metadata": {},
     "output_type": "execute_result"
    }
   ],
   "source": [
    "df.sort_values(by='bedrooms', ascending=False).iloc[0][['id', 'bedrooms']]"
   ]
  },
  {
   "cell_type": "markdown",
   "id": "574d4492",
   "metadata": {},
   "source": [
    "#### 6. What is the average and median of rooms for each house?"
   ]
  },
  {
   "cell_type": "code",
   "execution_count": 9,
   "id": "1cb2eeae",
   "metadata": {
    "ExecuteTime": {
     "end_time": "2021-10-20T10:36:34.821309Z",
     "start_time": "2021-10-20T10:36:34.806310Z"
    }
   },
   "outputs": [
    {
     "name": "stdout",
     "output_type": "stream",
     "text": [
      "Sum of bedrooms: 72854, avg. of bedrooms: 3.37, median of bedrooms: 3.00\n"
     ]
    }
   ],
   "source": [
    "print('Sum of bedrooms: {}, avg. of bedrooms: {:.2f}, median of bedrooms: {:.2f}'\n",
    "      .format(df['bedrooms'].sum(), df['bedrooms'].mean(), df['bedrooms'].median()))"
   ]
  },
  {
   "cell_type": "markdown",
   "id": "56f539b3",
   "metadata": {
    "ExecuteTime": {
     "end_time": "2021-09-15T20:40:16.814769Z",
     "start_time": "2021-09-15T20:40:16.803779Z"
    }
   },
   "source": [
    "#### 7. How many houses have 2 bathrooms?"
   ]
  },
  {
   "cell_type": "code",
   "execution_count": 10,
   "id": "6c1439da",
   "metadata": {
    "ExecuteTime": {
     "end_time": "2021-10-20T10:36:34.837307Z",
     "start_time": "2021-10-20T10:36:34.822308Z"
    }
   },
   "outputs": [
    {
     "data": {
      "text/plain": [
       "2760"
      ]
     },
     "execution_count": 10,
     "metadata": {},
     "output_type": "execute_result"
    }
   ],
   "source": [
    "df[df['bedrooms']==2].shape[0]"
   ]
  },
  {
   "cell_type": "markdown",
   "id": "dfc2e63a",
   "metadata": {},
   "source": [
    "#### 8. What is the average price of the houses?"
   ]
  },
  {
   "cell_type": "code",
   "execution_count": 11,
   "id": "3ee84ce7",
   "metadata": {
    "ExecuteTime": {
     "end_time": "2021-10-20T10:36:34.852309Z",
     "start_time": "2021-10-20T10:36:34.839308Z"
    }
   },
   "outputs": [
    {
     "data": {
      "text/plain": [
       "540088.1417665294"
      ]
     },
     "execution_count": 11,
     "metadata": {},
     "output_type": "execute_result"
    }
   ],
   "source": [
    "df['price'].mean()"
   ]
  },
  {
   "cell_type": "markdown",
   "id": "286d2082",
   "metadata": {},
   "source": [
    "#### 9. What is the average price of 2-bathroom homes?"
   ]
  },
  {
   "cell_type": "code",
   "execution_count": 12,
   "id": "4825f08e",
   "metadata": {
    "ExecuteTime": {
     "end_time": "2021-10-20T10:36:34.868307Z",
     "start_time": "2021-10-20T10:36:34.853307Z"
    }
   },
   "outputs": [
    {
     "data": {
      "text/plain": [
       "401372.681884058"
      ]
     },
     "execution_count": 12,
     "metadata": {},
     "output_type": "execute_result"
    }
   ],
   "source": [
    "df[df['bedrooms']==2]['price'].mean()"
   ]
  },
  {
   "cell_type": "markdown",
   "id": "9be55829",
   "metadata": {},
   "source": [
    "#### 10. What is the lowest price for 3-bedroom homes?"
   ]
  },
  {
   "cell_type": "code",
   "execution_count": 13,
   "id": "c41928d5",
   "metadata": {
    "ExecuteTime": {
     "end_time": "2021-10-20T10:36:34.883306Z",
     "start_time": "2021-10-20T10:36:34.869310Z"
    }
   },
   "outputs": [
    {
     "data": {
      "text/plain": [
       "466232.07848127035"
      ]
     },
     "execution_count": 13,
     "metadata": {},
     "output_type": "execute_result"
    }
   ],
   "source": [
    "df[df['bedrooms']==3]['price'].mean()"
   ]
  },
  {
   "cell_type": "markdown",
   "id": "e4a587f4",
   "metadata": {},
   "source": [
    "#### 11. How many houses have more than 300 square meters for the living room?"
   ]
  },
  {
   "cell_type": "code",
   "execution_count": 14,
   "id": "c2f4be6d",
   "metadata": {
    "ExecuteTime": {
     "end_time": "2021-10-20T10:36:34.898307Z",
     "start_time": "2021-10-20T10:36:34.884309Z"
    }
   },
   "outputs": [
    {
     "data": {
      "text/plain": [
       "21612"
      ]
     },
     "execution_count": 14,
     "metadata": {},
     "output_type": "execute_result"
    }
   ],
   "source": [
    "df[df['sqft_living']>300].shape[0]"
   ]
  },
  {
   "cell_type": "markdown",
   "id": "50284f5d",
   "metadata": {},
   "source": [
    "#### 12. How many houses have more than 2 floors?"
   ]
  },
  {
   "cell_type": "code",
   "execution_count": 15,
   "id": "515187e9",
   "metadata": {
    "ExecuteTime": {
     "end_time": "2021-10-20T10:36:34.914307Z",
     "start_time": "2021-10-20T10:36:34.899310Z"
    }
   },
   "outputs": [
    {
     "data": {
      "text/plain": [
       "782"
      ]
     },
     "execution_count": 15,
     "metadata": {},
     "output_type": "execute_result"
    }
   ],
   "source": [
    "df[df['floors']>2].shape[0]"
   ]
  },
  {
   "cell_type": "markdown",
   "id": "18453d8b",
   "metadata": {},
   "source": [
    "#### 13. How many houses are seaside?"
   ]
  },
  {
   "cell_type": "code",
   "execution_count": null,
   "id": "969a7e35",
   "metadata": {
    "ExecuteTime": {
     "end_time": "2021-10-20T10:36:34.929311Z",
     "start_time": "2021-10-20T10:36:34.915306Z"
    }
   },
   "outputs": [],
   "source": [
    "df[df['waterfront']>0].shape[0]"
   ]
  },
  {
   "cell_type": "markdown",
   "id": "d50ebf8e",
   "metadata": {},
   "source": [
    "#### 14. how many seaside houses have 3 bedrooms?"
   ]
  },
  {
   "cell_type": "code",
   "execution_count": null,
   "id": "22e35965",
   "metadata": {
    "ExecuteTime": {
     "end_time": "2021-10-20T10:36:34.945313Z",
     "start_time": "2021-10-20T10:36:34.930309Z"
    }
   },
   "outputs": [],
   "source": [
    "df[(df['waterfront']>0) & (df['bedrooms']==3)].shape[0]"
   ]
  },
  {
   "cell_type": "markdown",
   "id": "c4bdc4a2",
   "metadata": {},
   "source": [
    "#### 15. How many houses with more than 300 square meters for the living room have more than 2 bathrooms?"
   ]
  },
  {
   "cell_type": "code",
   "execution_count": null,
   "id": "3fb9d2be",
   "metadata": {
    "ExecuteTime": {
     "end_time": "2021-10-20T10:36:34.961306Z",
     "start_time": "2021-10-20T10:36:34.946308Z"
    }
   },
   "outputs": [],
   "source": [
    "df[(df['sqft_living']>300) & (df['bedrooms']>2)].shape[0]"
   ]
  },
  {
   "cell_type": "markdown",
   "id": "42039d4b",
   "metadata": {},
   "source": [
    "## Business Questions & Requests - Part 2"
   ]
  },
  {
   "cell_type": "markdown",
   "id": "d1333cd4",
   "metadata": {},
   "source": [
    "16. What is the date of the oldest property in the portfolio?\n",
    "17. How many properties have the maximum number of floors?\n",
    "18. Create a classification for the properties, separating them into low (price below or equal to 540000) and high standard (price above 540000).\n",
    "19. I would like a report sorted by price and containing the following information: (property id, date the property became available for purchase, number of bedrooms, total land size, price, property classification (high and low standard )\n",
    "20. I would like a Map indicating where the houses are located by geography.\n",
    "21. Create a new column called: “house_age”\n",
    "- If the value of the column \"date\" is greater than 2014-01-01 => ‘new_house’\n",
    "- If the value of the column \"date\" is less than 2014-01-01 => ‘old_house’\n",
    "22. Create a new column called: “dormitory_type”\n",
    "- If the value of the column \"bedrooms\" is equal to 1 => ‘studio’\n",
    "- If the value of the column \"bedrooms\" is equal to 2 => ‘apartment’\n",
    "- If the value of the column \"bedrooms\" is greater than 2 => ‘house’\n",
    "23. Create a new column called: “condition_type”\n",
    "- If the value of the column \"condition\" is less than or equal to 2 => ‘bad’\n",
    "- If the value of the column \"condition\" is equal to 3 or 4 => ‘regular’\n",
    "- If the value of the column \"condition\" is equal to 5 => ‘good’\n",
    "24. Change the TYPE Column \"condition\" to STRING\n",
    "25. Delete the columns: “sqft_living15” and “sqft_lot15”\n",
    "26. Change the TYPE Column “yr_built” to DATE\n",
    "27. Change the TYPE Column “yr_renovated” to DATE\n",
    "28. What is the earliest date of construction of a property?\n",
    "29. What is the earliest date for renovation of a property?\n",
    "30. How many properties have 2 floors?\n",
    "31. How many properties are with the condition equal to “regular”?\n",
    "32. How many properties are in “bad” condition and have “water views”?\n",
    "33. How many properties are “good” and “new_house”?\n",
    "34. What is the value of the most expensive property of the “studio” type?\n",
    "35. How many “apartment” properties were renovated in 2015?\n",
    "36. What is the largest number of bedrooms that a “house” property has?\n",
    "37. How many “new_house” properties were renovated in 2014?\n",
    "38. Select the columns: \"id\", \"date\", \"price\", \"floors\", \"zipcode\" by the method:\n",
    "- 38.1. Direct by column name.\n",
    "- 38.2. By Indices.\n",
    "- 38.3. By the indexes of the rows and the name of the columns\n",
    "- 38.4. Boolean Indices\n",
    "39. Save a .csv file with only columns 10 through 17.\n",
    "40. Change the color of the dots on the map from \"pink\" to \"dark green\""
   ]
  },
  {
   "cell_type": "markdown",
   "id": "39ad944c",
   "metadata": {},
   "source": [
    "### Solution"
   ]
  },
  {
   "cell_type": "markdown",
   "id": "3408b502",
   "metadata": {},
   "source": [
    "#### Libraries"
   ]
  },
  {
   "cell_type": "code",
   "execution_count": 18,
   "id": "169d31f4",
   "metadata": {
    "ExecuteTime": {
     "end_time": "2021-10-20T10:36:35.089414Z",
     "start_time": "2021-10-20T10:36:34.962309Z"
    }
   },
   "outputs": [],
   "source": [
    "import pandas as pd\n",
    "import plotly.express as px"
   ]
  },
  {
   "cell_type": "markdown",
   "id": "ac96924a",
   "metadata": {},
   "source": [
    "#### Load the dataset"
   ]
  },
  {
   "cell_type": "code",
   "execution_count": 16,
   "id": "a4462dba",
   "metadata": {
    "ExecuteTime": {
     "end_time": "2021-10-20T10:36:35.137371Z",
     "start_time": "2021-10-20T10:36:35.090310Z"
    }
   },
   "outputs": [],
   "source": [
    "df = pd.read_csv('kc_house_data.csv')"
   ]
  },
  {
   "cell_type": "code",
   "execution_count": 17,
   "id": "efa9a7bb",
   "metadata": {
    "ExecuteTime": {
     "end_time": "2021-10-20T10:36:35.153306Z",
     "start_time": "2021-10-20T10:36:35.138311Z"
    }
   },
   "outputs": [
    {
     "data": {
      "text/plain": [
       "Index(['id', 'date', 'price', 'bedrooms', 'bathrooms', 'sqft_living',\n",
       "       'sqft_lot', 'floors', 'waterfront', 'view', 'condition', 'grade',\n",
       "       'sqft_above', 'sqft_basement', 'yr_built', 'yr_renovated', 'zipcode',\n",
       "       'lat', 'long', 'sqft_living15', 'sqft_lot15'],\n",
       "      dtype='object')"
      ]
     },
     "execution_count": 17,
     "metadata": {},
     "output_type": "execute_result"
    }
   ],
   "source": [
    "df.columns"
   ]
  },
  {
   "cell_type": "markdown",
   "id": "3e7afac9",
   "metadata": {},
   "source": [
    "#### 16. What is the date of the oldest property in the portfolio?"
   ]
  },
  {
   "cell_type": "code",
   "execution_count": null,
   "id": "fc6c70e3",
   "metadata": {
    "ExecuteTime": {
     "end_time": "2021-10-20T10:36:35.168307Z",
     "start_time": "2021-10-20T10:36:35.154307Z"
    }
   },
   "outputs": [],
   "source": [
    "df.sort_values(by='yr_built', ascending=True).iloc[0][['id', 'yr_built']]"
   ]
  },
  {
   "cell_type": "markdown",
   "id": "414e2394",
   "metadata": {},
   "source": [
    "#### 17. How many properties have the maximum number of floors?"
   ]
  },
  {
   "cell_type": "code",
   "execution_count": null,
   "id": "c1fb7831",
   "metadata": {
    "ExecuteTime": {
     "end_time": "2021-10-20T10:36:35.184307Z",
     "start_time": "2021-10-20T10:36:35.169310Z"
    }
   },
   "outputs": [],
   "source": [
    "df[df['floors']==df['floors'].max()].shape[0]"
   ]
  },
  {
   "cell_type": "markdown",
   "id": "8ae19cee",
   "metadata": {},
   "source": [
    "#### 18. Create a classification for the properties, separating them into low (price below or equal to 540000) and high standard (price above 540000)."
   ]
  },
  {
   "cell_type": "code",
   "execution_count": null,
   "id": "00abf81d",
   "metadata": {
    "ExecuteTime": {
     "end_time": "2021-10-20T10:36:35.199323Z",
     "start_time": "2021-10-20T10:36:35.185308Z"
    }
   },
   "outputs": [],
   "source": [
    "df['standard'] = df['price'].apply(lambda x: 'high standard' if x > 540000 else 'low standard')\n",
    "df['standard'].value_counts()"
   ]
  },
  {
   "cell_type": "markdown",
   "id": "211136f9",
   "metadata": {},
   "source": [
    "#### 19. I would like a report sorted by price and containing the following information: (property id, date the property became available for purchase, number of bedrooms, total land size, price, property classification (high and low standard )"
   ]
  },
  {
   "cell_type": "code",
   "execution_count": null,
   "id": "588827c3",
   "metadata": {
    "ExecuteTime": {
     "end_time": "2021-10-20T10:36:35.215307Z",
     "start_time": "2021-10-20T10:36:35.200307Z"
    }
   },
   "outputs": [],
   "source": [
    "df[['id', 'date', 'bedrooms', 'sqft_lot', 'price', 'standard']].sort_values(by='price', ascending=False).head()"
   ]
  },
  {
   "cell_type": "markdown",
   "id": "cffea261",
   "metadata": {},
   "source": [
    "#### 20. I would like a Map indicating where the houses are located by geography."
   ]
  },
  {
   "cell_type": "code",
   "execution_count": null,
   "id": "2d882997",
   "metadata": {
    "ExecuteTime": {
     "end_time": "2021-10-20T10:36:36.028767Z",
     "start_time": "2021-10-20T10:36:35.216312Z"
    }
   },
   "outputs": [],
   "source": [
    "mapa = px.scatter_mapbox(df,\n",
    "                         lat='lat', lon='long', hover_name='id', hover_data=['price'],\n",
    "                         color_discrete_sequence=['fuchsia'], zoom=3, height=300)\n",
    "\n",
    "mapa.update_layout(mapbox_style='open-street-map')\n",
    "mapa.update_layout(height=600, margin={'r': 0, 't': 0, 'l': 0, 'b': 0})\n",
    "mapa.show()"
   ]
  },
  {
   "cell_type": "markdown",
   "id": "0c51a97f",
   "metadata": {},
   "source": [
    "#### 21. Create a new column called: “house_age”\n",
    "- If the value of the column \"date\" is greater than 2015-01-01 => ‘new_house’\n",
    "- If the value of the column \"date\" is less than 2015-01-01 => ‘old_house’\n",
    "\n",
    "I changed 2014 to 2015."
   ]
  },
  {
   "cell_type": "code",
   "execution_count": null,
   "id": "4210d687",
   "metadata": {
    "ExecuteTime": {
     "end_time": "2021-10-20T10:36:36.044274Z",
     "start_time": "2021-10-20T10:36:36.029785Z"
    }
   },
   "outputs": [],
   "source": [
    "df['house_age'] = df['date'].apply(lambda x: 'new_house' if x > '2015-01-01' else 'old_house')\n",
    "df['house_age'].value_counts()"
   ]
  },
  {
   "cell_type": "markdown",
   "id": "cdaec55d",
   "metadata": {},
   "source": [
    "#### 22. Create a new column called: “dormitory_type”"
   ]
  },
  {
   "cell_type": "markdown",
   "id": "434e7ef2",
   "metadata": {},
   "source": [
    "- If the value of the column \"bedrooms\" is equal to 1 => ‘studio’\n",
    "- If the value of the column \"bedrooms\" is equal to 2 => ‘apartment’\n",
    "- If the value of the column \"bedrooms\" is greater than 2 => ‘house’"
   ]
  },
  {
   "cell_type": "code",
   "execution_count": null,
   "id": "9d7b560a",
   "metadata": {
    "ExecuteTime": {
     "end_time": "2021-10-20T10:36:36.059804Z",
     "start_time": "2021-10-20T10:36:36.045814Z"
    }
   },
   "outputs": [],
   "source": [
    "df['dormitory_type'] = df['bedrooms'].apply(lambda x: 'studio' if x <= 1 else 'apartment' if x == 2 else 'house')\n",
    "df['dormitory_type'].value_counts()"
   ]
  },
  {
   "cell_type": "markdown",
   "id": "4ff4c8cc",
   "metadata": {},
   "source": [
    "#### 23. Create a new column called: “condition_type”\n",
    "- If the value of the column \"condition\" is less than or equal to 2 => ‘bad’\n",
    "- If the value of the column \"condition\" is equal to 3 or 4 => ‘regular’\n",
    "- If the value of the column \"condition\" is equal to 5 => ‘good’"
   ]
  },
  {
   "cell_type": "code",
   "execution_count": null,
   "id": "4737d3a7",
   "metadata": {
    "ExecuteTime": {
     "end_time": "2021-10-20T10:36:36.074803Z",
     "start_time": "2021-10-20T10:36:36.061804Z"
    }
   },
   "outputs": [],
   "source": [
    "df['condition_type'] = df['condition'].apply(lambda x: 'bad' if x <= 2 else 'regular' if x in (3,4) else 'good')\n",
    "df['condition_type'].value_counts()"
   ]
  },
  {
   "cell_type": "markdown",
   "id": "3fd021ec",
   "metadata": {},
   "source": [
    "#### 24. Change the TYPE Column \"condition\" to STRING"
   ]
  },
  {
   "cell_type": "code",
   "execution_count": null,
   "id": "7c7d2439",
   "metadata": {
    "ExecuteTime": {
     "end_time": "2021-10-20T10:36:36.090805Z",
     "start_time": "2021-10-20T10:36:36.075804Z"
    }
   },
   "outputs": [],
   "source": [
    "df['condition'] = str(df['condition'])"
   ]
  },
  {
   "cell_type": "markdown",
   "id": "343acb28",
   "metadata": {},
   "source": [
    "#### 25. Delete the columns: “sqft_living15” and “sqft_lot15”"
   ]
  },
  {
   "cell_type": "code",
   "execution_count": null,
   "id": "2f552fdc",
   "metadata": {
    "ExecuteTime": {
     "end_time": "2021-10-20T10:36:36.106806Z",
     "start_time": "2021-10-20T10:36:36.092815Z"
    }
   },
   "outputs": [],
   "source": [
    "df.drop(columns=['sqft_living15', 'sqft_lot15'], inplace=True)"
   ]
  },
  {
   "cell_type": "markdown",
   "id": "34ba9ce9",
   "metadata": {},
   "source": [
    "#### 26. Change the TYPE Column “yr_built” to DATE"
   ]
  },
  {
   "cell_type": "code",
   "execution_count": null,
   "id": "0bd28c3f",
   "metadata": {
    "ExecuteTime": {
     "end_time": "2021-10-20T10:49:54.398981Z",
     "start_time": "2021-10-20T10:49:54.386971Z"
    }
   },
   "outputs": [],
   "source": [
    "df['yr_built'] = pd.to_datetime(df['yr_built'], format='%Y')"
   ]
  },
  {
   "cell_type": "markdown",
   "id": "bb14a84a",
   "metadata": {},
   "source": [
    "#### 27. Change the TYPE Column “yr_renovated” to DATE"
   ]
  },
  {
   "cell_type": "code",
   "execution_count": null,
   "id": "7422559c",
   "metadata": {
    "ExecuteTime": {
     "end_time": "2021-10-20T10:36:36.503221Z",
     "start_time": "2021-10-20T10:36:36.503221Z"
    }
   },
   "outputs": [],
   "source": [
    "df['yr_renovated'] = pd.to_datetime(df['yr_renovated'], format='%Y', errors='coerce')"
   ]
  },
  {
   "cell_type": "markdown",
   "id": "b35a65e7",
   "metadata": {},
   "source": [
    "#### 28. What is the earliest date of construction of a property?"
   ]
  },
  {
   "cell_type": "code",
   "execution_count": null,
   "id": "2f346ac8",
   "metadata": {
    "ExecuteTime": {
     "end_time": "2021-10-20T10:36:36.504222Z",
     "start_time": "2021-10-20T10:36:36.504222Z"
    }
   },
   "outputs": [],
   "source": [
    "df['yr_built'].min()"
   ]
  },
  {
   "cell_type": "markdown",
   "id": "1a2e1634",
   "metadata": {},
   "source": [
    "#### 29. What is the earliest date for renovation of a property?"
   ]
  },
  {
   "cell_type": "code",
   "execution_count": null,
   "id": "c1026eb0",
   "metadata": {
    "ExecuteTime": {
     "end_time": "2021-10-20T10:36:36.505221Z",
     "start_time": "2021-10-20T10:36:36.505221Z"
    }
   },
   "outputs": [],
   "source": [
    "df['yr_renovated'].min()"
   ]
  },
  {
   "cell_type": "markdown",
   "id": "a936cd1e",
   "metadata": {},
   "source": [
    "#### 30. How many properties have 2 floors?"
   ]
  },
  {
   "cell_type": "code",
   "execution_count": null,
   "id": "9d95d271",
   "metadata": {
    "ExecuteTime": {
     "end_time": "2021-10-20T10:36:36.506220Z",
     "start_time": "2021-10-20T10:36:36.506220Z"
    }
   },
   "outputs": [],
   "source": [
    "df[df['floors']==2].shape[0]"
   ]
  },
  {
   "cell_type": "markdown",
   "id": "d17305a4",
   "metadata": {},
   "source": [
    "#### 31. How many properties are with the condition equal to “regular”?"
   ]
  },
  {
   "cell_type": "code",
   "execution_count": null,
   "id": "3c1e953c",
   "metadata": {
    "ExecuteTime": {
     "end_time": "2021-10-20T10:36:36.507220Z",
     "start_time": "2021-10-20T10:36:36.507220Z"
    }
   },
   "outputs": [],
   "source": [
    "df[df['condition_type']=='regular'].shape[0]"
   ]
  },
  {
   "cell_type": "markdown",
   "id": "a8c49000",
   "metadata": {},
   "source": [
    "#### 32. How many properties are in “bad” condition and have “water views”?"
   ]
  },
  {
   "cell_type": "code",
   "execution_count": null,
   "id": "bae36ec8",
   "metadata": {
    "ExecuteTime": {
     "end_time": "2021-10-20T10:36:36.508220Z",
     "start_time": "2021-10-20T10:36:36.508220Z"
    }
   },
   "outputs": [],
   "source": [
    "df[(df['condition_type']=='bad') & (df['waterfront']>0)].shape[0]"
   ]
  },
  {
   "cell_type": "markdown",
   "id": "96172f1f",
   "metadata": {},
   "source": [
    "#### 33. How many properties are “good” and “new_house”?"
   ]
  },
  {
   "cell_type": "code",
   "execution_count": null,
   "id": "63a00d3d",
   "metadata": {
    "ExecuteTime": {
     "end_time": "2021-10-20T10:36:36.509220Z",
     "start_time": "2021-10-20T10:36:36.509220Z"
    }
   },
   "outputs": [],
   "source": [
    "df[(df['condition_type']=='good') & (df['house_age']=='new_house')].shape[0]"
   ]
  },
  {
   "cell_type": "markdown",
   "id": "825d820a",
   "metadata": {},
   "source": [
    "#### 34. What is the value of the most expensive property of the “studio” type?"
   ]
  },
  {
   "cell_type": "code",
   "execution_count": null,
   "id": "a81a01b9",
   "metadata": {
    "ExecuteTime": {
     "end_time": "2021-10-20T10:36:36.511227Z",
     "start_time": "2021-10-20T10:36:36.511227Z"
    }
   },
   "outputs": [],
   "source": [
    "df[(df['dormitory_type']=='studio')].sort_values(by='price', ascending=False).iloc[0][['id', 'price']]"
   ]
  },
  {
   "cell_type": "markdown",
   "id": "4b431255",
   "metadata": {},
   "source": [
    "#### 35. How many “apartment” properties were renovated in 2015?"
   ]
  },
  {
   "cell_type": "code",
   "execution_count": null,
   "id": "2bf84940",
   "metadata": {
    "ExecuteTime": {
     "end_time": "2021-10-20T10:36:36.512222Z",
     "start_time": "2021-10-20T10:36:36.512222Z"
    }
   },
   "outputs": [],
   "source": [
    "df[df['yr_renovated']=='01-01-2015'].shape[0]"
   ]
  },
  {
   "cell_type": "markdown",
   "id": "53b1b896",
   "metadata": {},
   "source": [
    "#### 36. What is the largest number of bedrooms that a “house” property has?"
   ]
  },
  {
   "cell_type": "code",
   "execution_count": null,
   "id": "0aaf6394",
   "metadata": {
    "ExecuteTime": {
     "end_time": "2021-10-20T10:36:36.514222Z",
     "start_time": "2021-10-20T10:36:36.514222Z"
    }
   },
   "outputs": [],
   "source": [
    "df[(df['dormitory_type']=='house')]['bedrooms'].max()"
   ]
  },
  {
   "cell_type": "markdown",
   "id": "6677dffb",
   "metadata": {},
   "source": [
    "#### 37. How many “new_house” properties were renovated in 2014?"
   ]
  },
  {
   "cell_type": "code",
   "execution_count": null,
   "id": "ad3a23b8",
   "metadata": {
    "ExecuteTime": {
     "end_time": "2021-10-20T10:36:36.516221Z",
     "start_time": "2021-10-20T10:36:36.515224Z"
    }
   },
   "outputs": [],
   "source": [
    "df[(df['house_age']=='new_house')&(df['yr_renovated']=='01-01-2014')].shape[0]"
   ]
  },
  {
   "cell_type": "markdown",
   "id": "fd8e4987",
   "metadata": {},
   "source": [
    "#### 38. Select the columns: \"id\", \"date\", \"price\", \"floors\", \"zipcode\" by the method:\n",
    "- Direct by column name.\n",
    "- By Indices.\n",
    "- By the indexes of the rows and the name of the columns\n",
    "- Boolean Indices"
   ]
  },
  {
   "cell_type": "markdown",
   "id": "fdeafba4",
   "metadata": {},
   "source": [
    "#### 39. Save a .csv file with only columns 10 through 17."
   ]
  },
  {
   "cell_type": "code",
   "execution_count": null,
   "id": "ff12652e",
   "metadata": {
    "ExecuteTime": {
     "end_time": "2021-10-20T10:36:36.517243Z",
     "start_time": "2021-10-20T10:36:36.517243Z"
    }
   },
   "outputs": [],
   "source": [
    "df.iloc[:, 10:17].shape #.to_csv('file.csv') #instead of .shape"
   ]
  },
  {
   "cell_type": "markdown",
   "id": "34919a9b",
   "metadata": {
    "ExecuteTime": {
     "end_time": "2021-09-15T21:04:50.824606Z",
     "start_time": "2021-09-15T21:04:49.826Z"
    }
   },
   "source": [
    "#### 40. Change the color of the dots on the map from \"pink\" to \"dark green\""
   ]
  },
  {
   "cell_type": "code",
   "execution_count": null,
   "id": "6a2ff898",
   "metadata": {
    "ExecuteTime": {
     "end_time": "2021-10-20T10:36:36.519221Z",
     "start_time": "2021-10-20T10:36:36.519221Z"
    }
   },
   "outputs": [],
   "source": [
    "mapa = px.scatter_mapbox(df, lat='lat', lon='long', hover_name='id', hover_data=['price'], color_discrete_sequence=['darkgreen'], zoom=3, height=300)\n",
    "\n",
    "mapa.update_layout(mapbox_style='open-street-map')\n",
    "mapa.update_layout(height=600, margin={'r': 0, 't': 0, 'l': 0, 'b': 0})\n",
    "mapa.show()"
   ]
  }
 ],
 "metadata": {
  "kernelspec": {
   "display_name": "Python 3 (ipykernel)",
   "language": "python",
   "name": "python3"
  },
  "language_info": {
   "codemirror_mode": {
    "name": "ipython",
    "version": 3
   },
   "file_extension": ".py",
   "mimetype": "text/x-python",
   "name": "python",
   "nbconvert_exporter": "python",
   "pygments_lexer": "ipython3",
   "version": "3.8.5"
  }
 },
 "nbformat": 4,
 "nbformat_minor": 5
}
