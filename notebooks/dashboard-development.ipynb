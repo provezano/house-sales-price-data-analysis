{
 "cells": [
  {
   "cell_type": "code",
   "execution_count": 5,
   "id": "1a0c6595",
   "metadata": {},
   "outputs": [
    {
     "name": "stdout",
     "output_type": "stream",
     "text": [
      "Overwriting dashboard.py\n"
     ]
    }
   ],
   "source": [
    "%%writefile dashboard.py\n",
    "import folium\n",
    "import geopandas\n",
    "import pandas as pd\n",
    "import streamlit as st\n",
    "from folium.plugins import MarkerCluster\n",
    "from streamlit_folium import folium_static\n",
    "\n",
    "st.set_page_config(layout='wide')\n",
    "\n",
    "@st.cache(allow_output_mutation=True)\n",
    "def get_data(path):\n",
    "    data = pd.read_csv(path)\n",
    "    return data\n",
    "\n",
    "@st.cache(allow_output_mutation=True)\n",
    "def get_geofile( url ):\n",
    "    geofile = geopandas.read_file( url )\n",
    "    return geofile\n",
    "\n",
    "def generate_filtered_dataset(data, col, f_zipcode, f_attributes):\n",
    "    f_attributes = list(set(f_attributes + ['zipcode', col]))\n",
    "\n",
    "    if f_attributes != [] and f_zipcode != []:\n",
    "        df_metrics = data.loc[data['zipcode'].isin(f_zipcode), f_attributes].copy()\n",
    "    elif f_attributes == [] and f_zipcode != []:\n",
    "        df_metrics = data.loc[data['zipcode'].isin(f_zipcode), :].copy()\n",
    "    elif f_attributes != [] and f_zipcode == []:\n",
    "        df_metrics = data.loc[:, f_attributes].copy()\n",
    "    else:\n",
    "        df_metrics = data.copy()\n",
    "    \n",
    "    if df_metrics[col].dtype in ['byte', 'int8', 'int32', 'int64']:\n",
    "        df_metrics[[col, 'zipcode']].groupby('zipcode').count().reset_index()\n",
    "        \n",
    "    return df_metrics[[col, 'zipcode']].groupby('zipcode').mean().reset_index()\n",
    "\n",
    "path = '../data/kc_house_data.csv'\n",
    "data = get_data(path)\n",
    "\n",
    "url = 'https://opendata.arcgis.com/datasets/83fc2e72903343aabff6de8cb445b81c_2.geojson'\n",
    "geofile = get_geofile( url )\n",
    "\n",
    "data['price_m2'] = data['price']/(data['sqft_lot']/10.764)\n",
    "\n",
    "st.title('House Sales Price - Data Analysis')\n",
    "\n",
    "f_attributes = st.sidebar.multiselect('Enter columns', data.columns)\n",
    "st.write(f_attributes)\n",
    "\n",
    "f_zipcode = st.sidebar.multiselect('Enter zipcode(s)', data['zipcode'].unique())\n",
    "st.write(f_zipcode)\n",
    "\n",
    "if f_attributes != [] and f_zipcode != []:\n",
    "    df = data.loc[data['zipcode'].isin(f_zipcode), f_attributes].copy()\n",
    "elif f_attributes == [] and f_zipcode != []:\n",
    "    df = data.loc[data['zipcode'].isin(f_zipcode), :].copy()\n",
    "elif f_attributes != [] and f_zipcode == []:\n",
    "    df = data.loc[:, f_attributes].copy()\n",
    "else:\n",
    "    df = data.copy()\n",
    "\n",
    "st.dataframe(df.head(20))\n",
    "    \n",
    "c1, c2 = st.columns((1, 1)) \n",
    "    \n",
    "df1 = generate_filtered_dataset(data, 'id', f_zipcode, f_attributes)\n",
    "df2 = generate_filtered_dataset(data, 'price', f_zipcode, f_attributes)\n",
    "df3 = generate_filtered_dataset(data, 'sqft_living', f_zipcode, f_attributes)\n",
    "df4 = generate_filtered_dataset(data, 'price_m2', f_zipcode, f_attributes)\n",
    "\n",
    "\n",
    "m1 = pd.merge(df1, df2, on='zipcode', how='inner')\n",
    "m2 = pd.merge(m1, df3, on='zipcode', how='inner')\n",
    "m3 = pd.merge(m2, df4, on='zipcode', how='inner')\n",
    "\n",
    "m3.columns = ['ZIP Code', 'Total Houses', 'Price', 'SQRT Living','Price/m\\u00b2']\n",
    "\n",
    "c1.header('Average by Zipcode')\n",
    "c1.dataframe(m3.head(8), height=600)\n",
    "\n",
    "c2.header( 'Descriptive Statistics' )\n",
    "c2.dataframe( df.describe(), height=800 )\n",
    "\n",
    "\n",
    "st.title( 'Region Overview' )\n",
    "\n",
    "c1, c2 = st.columns(( 1, 1 ))\n",
    "c1.header( 'Portfolio Density' )\n",
    "\n",
    "df = data.sample(10)\n",
    "\n",
    "# Base Map - Folium \n",
    "density_map = folium.Map( location=[data['lat'].mean(), \n",
    "                          data['long'].mean() ],\n",
    "                          default_zoom_start=15 ) \n",
    "\n",
    "marker_cluster = MarkerCluster().add_to( density_map )\n",
    "for name, row in df.iterrows():\n",
    "    folium.Marker( [row['lat'], row['long'] ], \n",
    "        popup='Sold R${0} on: {1}. Features: {2} sqft, {3} bedrooms, {4} bathrooms, year built: {5}'.format( row['price'],\n",
    "                                     row['date'],\n",
    "                                     row['sqft_living'],\n",
    "                                     row['bedrooms'],\n",
    "                                     row['bathrooms'],\n",
    "                                     row['yr_built'] ) ).add_to( marker_cluster )\n",
    "with c1:\n",
    "    folium_static( density_map )\n",
    "\n",
    "    \n",
    "c2.header( 'Price Density' )\n",
    "\n",
    "df = data[['price', 'zipcode']].groupby( 'zipcode' ).mean().reset_index()\n",
    "df.columns = ['ZIP', 'PRICE']\n",
    "\n",
    "\n",
    "geofile = geofile[geofile['ZIP'].isin( df['ZIP'].tolist() )]\n",
    "\n",
    "region_price_map = folium.Map( location=[data['lat'].mean(), \n",
    "                               data['long'].mean() ],\n",
    "                               default_zoom_start=15 ) \n",
    "\n",
    "region_price_map.choropleth( data = df,\n",
    "                             geo_data = geofile,\n",
    "                             columns=['ZIP', 'PRICE'],\n",
    "                             key_on='feature.properties.ZIP',\n",
    "                             fill_color='YlOrRd',\n",
    "                             fill_opacity = 0.7,\n",
    "                             line_opacity = 0.2,\n",
    "                             legend_name='AVG PRICE' )\n",
    "with c2:\n",
    "    folium_static( region_price_map )"
   ]
  },
  {
   "cell_type": "code",
   "execution_count": 39,
   "id": "2bc3c488",
   "metadata": {},
   "outputs": [
    {
     "data": {
      "text/plain": [
       "Index(['id', 'date', 'price', 'bedrooms', 'bathrooms', 'sqft_living',\n",
       "       'sqft_lot', 'floors', 'waterfront', 'view', 'condition', 'grade',\n",
       "       'sqft_above', 'sqft_basement', 'yr_built', 'yr_renovated', 'zipcode',\n",
       "       'lat', 'long', 'sqft_living15', 'sqft_lot15'],\n",
       "      dtype='object')"
      ]
     },
     "execution_count": 39,
     "metadata": {},
     "output_type": "execute_result"
    }
   ],
   "source": [
    "import pandas as pd\n",
    "\n",
    "def get_data(path):\n",
    "    data = pd.read_csv(path)\n",
    "    return data\n",
    "\n",
    "path = '../data/kc_house_data.csv'\n",
    "data = get_data(path)\n",
    "\n",
    "data.columns"
   ]
  },
  {
   "cell_type": "code",
   "execution_count": 31,
   "id": "c6b81492",
   "metadata": {},
   "outputs": [
    {
     "data": {
      "text/plain": [
       "True"
      ]
     },
     "execution_count": 31,
     "metadata": {},
     "output_type": "execute_result"
    }
   ],
   "source": [
    "data['id'].dtype in ['byte', 'int8', 'int32', 'int64']"
   ]
  },
  {
   "cell_type": "code",
   "execution_count": null,
   "id": "3365d9e8",
   "metadata": {},
   "outputs": [],
   "source": []
  }
 ],
 "metadata": {
  "kernelspec": {
   "display_name": "Python 3 (ipykernel)",
   "language": "python",
   "name": "python3"
  },
  "language_info": {
   "codemirror_mode": {
    "name": "ipython",
    "version": 3
   },
   "file_extension": ".py",
   "mimetype": "text/x-python",
   "name": "python",
   "nbconvert_exporter": "python",
   "pygments_lexer": "ipython3",
   "version": "3.10.1"
  }
 },
 "nbformat": 4,
 "nbformat_minor": 5
}
